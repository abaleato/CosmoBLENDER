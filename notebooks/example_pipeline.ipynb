{
 "cells": [
  {
   "cell_type": "code",
   "execution_count": 26,
   "metadata": {
    "ExecuteTime": {
     "end_time": "2023-06-27T06:03:14.198168Z",
     "start_time": "2023-06-27T06:03:13.871223Z"
    }
   },
   "outputs": [
    {
     "name": "stdout",
     "output_type": "stream",
     "text": [
      "The autoreload extension is already loaded. To reload it, use:\n",
      "  %reload_ext autoreload\n"
     ]
    },
    {
     "data": {
      "text/html": [
       "<style>.container { width:85% !important; }</style>"
      ],
      "text/plain": [
       "<IPython.core.display.HTML object>"
      ]
     },
     "metadata": {},
     "output_type": "display_data"
    }
   ],
   "source": [
    "%load_ext autoreload\n",
    "%autoreload 2\n",
    "%matplotlib inline\n",
    "\n",
    "from IPython.core.display import display, HTML\n",
    "display(HTML(\"<style>.container { width:85% !important; }</style>\"))\n",
    "\n",
    "import warnings\n",
    "warnings.filterwarnings('ignore')\n",
    "\n",
    "import numpy as np\n",
    "import matplotlib.pyplot as plt\n",
    "from cosmoblender import tools as tls\n",
    "from cosmoblender import qest\n",
    "from cosmoblender import biases"
   ]
  },
  {
   "cell_type": "markdown",
   "metadata": {},
   "source": [
    "Initialise experiment object"
   ]
  },
  {
   "cell_type": "code",
   "execution_count": 27,
   "metadata": {
    "ExecuteTime": {
     "end_time": "2023-06-27T06:03:14.593588Z",
     "start_time": "2023-06-27T06:03:14.206488Z"
    }
   },
   "outputs": [],
   "source": [
    "# Foreground cleaning? Only relevant if many frequencies are provided\n",
    "MV_ILC_bool = True \n",
    "deproject_CIB = False\n",
    "deproject_tSZ = False\n",
    "fg_cleaning_dict = {'MV_ILC_bool':MV_ILC_bool, 'deproject_CIB':deproject_CIB, 'deproject_tSZ':deproject_tSZ}"
   ]
  },
  {
   "cell_type": "code",
   "execution_count": 28,
   "metadata": {
    "ExecuteTime": {
     "end_time": "2023-06-27T06:06:02.791172Z",
     "start_time": "2023-06-27T06:03:41.292620Z"
    }
   },
   "outputs": [],
   "source": [
    "SPT_properties = {'nlev_t': np.array([18.]),\n",
    "                  'beam_size':np.array([1.]),\n",
    "                  'freq_GHz': np.array([150.])}\n",
    "SO_properties = {'nlev_t': np.array([52., 27., 5.8, 6.3, 15., 37.]),\n",
    "                 'beam_size':np.array([7.4, 5.1, 2.2, 1.4, 1.0, 0.9]),\n",
    "                 'freq_GHz': np.array([27.3, 41.7, 93., 143., 225.,278.])}\n",
    "\n",
    "# Initialise experiments with various different mass cuts\n",
    "SPT_5e15 = qest.experiment(lmax = 3000, massCut_Mvir=5e15, **SPT_properties, **fg_cleaning_dict)\n",
    "SO_5e15 = qest.experiment(lmax = 3000, massCut_Mvir=5e15, **SO_properties, **fg_cleaning_dict)\n",
    "\n",
    "# Choose an experiment\n",
    "experiment = SPT_5e15"
   ]
  },
  {
   "cell_type": "markdown",
   "metadata": {},
   "source": [
    "One can later inspect the properties by doing"
   ]
  },
  {
   "cell_type": "code",
   "execution_count": 120,
   "metadata": {
    "ExecuteTime": {
     "end_time": "2022-10-05T19:03:57.751030Z",
     "start_time": "2022-10-05T19:03:57.182299Z"
    }
   },
   "outputs": [
    {
     "name": "stdout",
     "output_type": "stream",
     "text": [
      "Mass Cut: 5.00e+15  lmax: 3000  Beam FWHM: [7.4 5.1 2.2 1.4 1.  0.9] Noise (uK arcmin): [52.  27.   5.8  6.3 15.  37. ]  Freq (GHz): [ 27.3  41.7  93.  143.  225.  278. ]\n"
     ]
    }
   ],
   "source": [
    "print(experiment)"
   ]
  },
  {
   "cell_type": "markdown",
   "metadata": {},
   "source": [
    "Initialise halo model calculator"
   ]
  },
  {
   "cell_type": "code",
   "execution_count": 39,
   "metadata": {
    "ExecuteTime": {
     "end_time": "2023-06-27T06:23:44.568880Z",
     "start_time": "2023-06-27T06:23:32.615191Z"
    }
   },
   "outputs": [],
   "source": [
    "# This should roughly match the cosmology in Nick's tSZ papers\n",
    "cosmoParams = {'As':2.4667392631170437e-09,'ns':.96,'omch2':(0.25-.043)*.7**2,'ombh2':0.044*.7**2,'H0':70.} #Note that for now there is still cosmology dpendence in the cls defined within the experiment class\n",
    "\n",
    "z_max = 3 #3\n",
    "nZs = 10 #50\n",
    "nMasses = 20  #30\n",
    "\n",
    "# Set CIB halo model\n",
    "cib_model='planck13'#'vierro'\n",
    "\n",
    "# Initialise a halo model object for the calculation, using mostly default parameters\n",
    "hm_calc = biases.hm_framework(cosmoParams=cosmoParams, nZs=nZs, nMasses=nMasses, cib_model=cib_model, z_max=z_max)"
   ]
  },
  {
   "cell_type": "markdown",
   "metadata": {},
   "source": [
    "Again, we can print out its properties"
   ]
  },
  {
   "cell_type": "code",
   "execution_count": 112,
   "metadata": {
    "ExecuteTime": {
     "end_time": "2022-10-05T18:46:17.089255Z",
     "start_time": "2022-10-05T18:46:16.931671Z"
    }
   },
   "outputs": [
    {
     "name": "stdout",
     "output_type": "stream",
     "text": [
      "M_min: 2.00e+13  M_max: 5.00e+16  n_Masses: 30\n",
      "  z_min: 0.07  z_max: 3.00  n_zs: 30\n",
      "  Mass function: sheth-torman  Mass definition: vir\n"
     ]
    }
   ],
   "source": [
    "print(hm_calc)"
   ]
  },
  {
   "cell_type": "markdown",
   "metadata": {},
   "source": [
    "# Calculate the biases"
   ]
  },
  {
   "cell_type": "markdown",
   "metadata": {},
   "source": [
    "Run the main function for each of the mass cuts, and for either the tsz or cib calculation, using the FFTlog approach"
   ]
  },
  {
   "cell_type": "markdown",
   "metadata": {},
   "source": [
    "We can also calculate the secondary bispectrum bias though this is considerably slower (takes around 40 minutes to calculate bias every 100 ells from m14 to 3000 with nz=30, nMasses=30)"
   ]
  },
  {
   "cell_type": "markdown",
   "metadata": {
    "pycharm": {
     "name": "#%% md\n"
    }
   },
   "source": [
    "Calculate and plot the biases"
   ]
  },
  {
   "cell_type": "code",
   "execution_count": 45,
   "metadata": {
    "ExecuteTime": {
     "end_time": "2023-06-27T06:51:11.688757Z",
     "start_time": "2023-06-27T06:46:24.946577Z"
    }
   },
   "outputs": [],
   "source": [
    "which_bias = 'tsz' # 'tsz' or 'cib' or 'mixed'\n",
    "\n",
    "# Calculate secondary bispectrum bias? Note that this is a lot slower that the other implemented terms\n",
    "get_secondary_bispec_bias = False\n",
    "\n",
    "if which_bias=='tsz':\n",
    "    hm_calc.get_tsz_auto_biases(experiment, get_secondary_bispec_bias=get_secondary_bispec_bias)\n",
    "if which_bias=='cib':\n",
    "    hm_calc.get_cib_auto_biases(experiment, get_secondary_bispec_bias=get_secondary_bispec_bias)\n",
    "if which_bias=='mixed':\n",
    "    hm_calc.get_mixed_auto_biases(experiment, get_secondary_bispec_bias=get_secondary_bispec_bias)\n",
    "\n",
    "# Break down contributions into n-halo terms?\n",
    "breakdown = False"
   ]
  },
  {
   "cell_type": "code",
   "execution_count": 46,
   "metadata": {
    "ExecuteTime": {
     "end_time": "2023-06-27T06:51:12.689389Z",
     "start_time": "2023-06-27T06:51:11.701336Z"
    }
   },
   "outputs": [
    {
     "data": {
      "image/png": "[encoded data removed]",
      "text/plain": [
       "<Figure size 432x288 with 1 Axes>"
      ]
     },
     "metadata": {
      "needs_background": "light"
     },
     "output_type": "display_data"
    }
   ],
   "source": [
    "plt.figure()\n",
    "title=''\n",
    "\n",
    "scaling = experiment.biases['ells']**4 /4.\n",
    "if get_secondary_bispec_bias:\n",
    "    # TODO: a factor of 1/2 would make the 2ndary bispec agree better with expectations\n",
    "    scaling_second_bispec_bias = experiment_2ndarybispec.biases['second_bispec_bias_ells']**4 /4.\n",
    "    scaling_second_bispec_bias[:3] = np.nan\n",
    "\n",
    "# Split into negative and positive parts for plotting convenience\n",
    "prim_bispec_1h_pos, prim_bispec_1h_neg = tls.split_positive_negative(experiment.biases[which_bias]['prim_bispec']['1h'])\n",
    "prim_bispec_2h_pos, prim_bispec_2h_neg = tls.split_positive_negative(experiment.biases[which_bias]['prim_bispec']['2h'])\n",
    "prim_bispec_tot_pos, prim_bispec_tot_neg = tls.split_positive_negative(experiment.biases[which_bias]['prim_bispec']['2h']+experiment.biases[which_bias]['prim_bispec']['1h'])\n",
    "\n",
    "trispec_1h_pos, trispec_1h_neg = tls.split_positive_negative(experiment.biases[which_bias]['trispec']['1h'])\n",
    "trispec_2h_pos, trispec_2h_neg = tls.split_positive_negative(experiment.biases[which_bias]['trispec']['2h'])\n",
    "trispec_tot_pos, trispec_tot_neg = tls.split_positive_negative(experiment.biases[which_bias]['trispec']['2h']+ experiment.biases[which_bias]['trispec']['1h'])\n",
    "\n",
    "if get_secondary_bispec_bias:\n",
    "    sec_bispec_1h_pos, sec_bispec_1h_neg = tls.split_positive_negative(experiment_2ndarybispec.biases[which_bias]['second_bispec']['1h'])\n",
    "    #FIXME: for now, ony 1h term for secondary bispec bias\n",
    "    sec_bispec_tot_pos, sec_bispec_tot_neg = tls.split_positive_negative ( 0 +experiment_2ndarybispec.biases[which_bias]['second_bispec']['1h'])\n",
    "\n",
    "\n",
    "plt.plot(experiment.biases['ells'], scaling * trispec_tot_pos, color='b', label=r'{} trispec. bias, tot '.format(which_bias))\n",
    "plt.plot(experiment.biases['ells'], scaling * trispec_tot_neg, color='b', ls='--')\n",
    "\n",
    "if breakdown:\n",
    "    title='_withbreakdown'\n",
    "    plt.plot(experiment.biases['ells'], scaling * trispec_1h_pos, color='b', label=r'{} trispec. bias, 1h '.format(which_bias), ls=':')\n",
    "    plt.plot(experiment.biases['ells'], scaling * trispec_1h_neg, color='b', ls=':')\n",
    "\n",
    "    plt.plot(experiment.biases['ells'], scaling * trispec_2h_pos, color='b', label=r'{} trispec. bias, 2h '.format(which_bias), ls='-.')\n",
    "    plt.plot(experiment.biases['ells'], scaling * trispec_2h_neg, color='b', ls='-.')\n",
    "\n",
    "plt.plot(experiment.biases['ells'], scaling * prim_bispec_tot_pos, color='r',label=r'{} prim. bispec. bias, tot'.format(which_bias))\n",
    "plt.plot(experiment.biases['ells'], scaling * prim_bispec_tot_neg, color='r', ls='--')\n",
    "\n",
    "if breakdown:\n",
    "    plt.plot(experiment.biases['ells'], scaling * prim_bispec_1h_pos, color='r', label=r'{} prim. bispec. bias, 1h '.format(which_bias), ls=':')\n",
    "    plt.plot(experiment.biases['ells'], scaling * prim_bispec_1h_neg, color='r', ls=':')\n",
    "\n",
    "    plt.plot(experiment.biases['ells'], scaling * prim_bispec_2h_pos, color='r', label=r'{} prim. bispec. bias, 2h '.format(which_bias), ls='-.')\n",
    "    plt.plot(experiment.biases['ells'], scaling * prim_bispec_2h_neg, color='r', ls='-.')\n",
    "\n",
    "if get_secondary_bispec_bias:\n",
    "    plt.plot(experiment_2ndarybispec.biases['second_bispec_bias_ells'], scaling_second_bispec_bias * sec_bispec_tot_pos, color='orange',label=r'{} sec. bispec. bias, tot'.format(which_bias))\n",
    "    plt.plot(experiment_2ndarybispec.biases['second_bispec_bias_ells'], scaling_second_bispec_bias * sec_bispec_tot_neg, color='orange', ls='--')\n",
    "\n",
    "if breakdown:\n",
    "    plt.plot(experiment.biases['second_bispec_bias_ells'], scaling_second_bispec_bias * sec_bispec_1h_pos, color='orange', label=r'{} sec. bispec. bias, 1h '.format(which_bias), ls=':')\n",
    "    plt.plot(experiment.biases['second_bispec_bias_ells'], scaling_second_bispec_bias * sec_bispec_1h_neg, color='orange', ls=':')\n",
    "\n",
    "    #plt.plot(experiment.biases['second_bispec_bias_ells'], scaling_second_bispec_bias * sec_bispec_2h_pos, color='gold', label=r'{} sec. bispec. bias, 2h '.format(which_bias), ls='-.')\n",
    "    #plt.plot(experiment.biases['second_bispec_bias_ells'], scaling_second_bispec_bias * sec_bispec_2h_neg, color='gold', ls='-.')\n",
    "\n",
    "plt.plot(experiment.cl_unl.ls, 0.05* experiment.cl_unl.ls**4 * experiment.cl_unl.clpp /4.,'k')\n",
    "plt.yscale('log')\n",
    "plt.ylabel(r'$C_L^{\\kappa\\kappa}$',fontsize=15)\n",
    "plt.xlabel(r'$L$',fontsize=15)\n",
    "plt.xlim([100,3000])\n",
    "#plt.ylim([1e-11,1e-7])\n",
    "\n",
    "ax = plt.gca()\n",
    "ax.tick_params(axis='both', which='major', labelsize=8)\n",
    "ax.tick_params(axis='both', which='minor', labelsize=8)"
   ]
  },
  {
   "cell_type": "markdown",
   "metadata": {},
   "source": [
    "We can save the dictionary of biases to file as"
   ]
  },
  {
   "cell_type": "code",
   "execution_count": 116,
   "metadata": {
    "ExecuteTime": {
     "end_time": "2022-10-05T18:53:38.906778Z",
     "start_time": "2022-10-05T18:53:38.819899Z"
    }
   },
   "outputs": [],
   "source": [
    "experiment.save_biases()"
   ]
  },
  {
   "cell_type": "markdown",
   "metadata": {},
   "source": [
    "and later retrieve them as"
   ]
  },
  {
   "cell_type": "code",
   "execution_count": 117,
   "metadata": {
    "ExecuteTime": {
     "end_time": "2022-10-05T18:53:40.476058Z",
     "start_time": "2022-10-05T18:53:40.396997Z"
    }
   },
   "outputs": [
    {
     "name": "stdout",
     "output_type": "stream",
     "text": [
      "Successfully loaded experiment object with properties:\n",
      "\n",
      "{'ells': array([   0,    1,    2, ..., 2998, 2999, 3000]), 'second_bispec_bias_ells': {}, 'tsz': {'trispec': {'1h': array([0.00000000e+00+0.j, 2.16351424e-10+0.j, 2.16207040e-10+0.j, ...,\n",
      "       3.68970128e-21+0.j, 3.69730715e-21+0.j, 3.70492088e-21+0.j]), '2h': array([0.00000000e+00+0.00000000e+00j, 1.89782161e-11+9.41773579e-25j,\n",
      "       3.12650331e-11+1.55149367e-24j, ...,\n",
      "       6.40463738e-26+8.35398018e-46j, 6.41283229e-26+8.36466933e-46j,\n",
      "       6.42102506e-26+8.37535568e-46j])}, 'prim_bispec': {'1h': array([           nan           +nanj, 1.71718396e-10+4.26067043e-24j,\n",
      "       5.72204467e-11+1.41975158e-24j, ...,\n",
      "       2.18498039e-23+1.42500518e-43j, 2.18483004e-23+1.42490713e-43j,\n",
      "       2.18467804e-23+1.42480799e-43j]), '2h': array([           nan           +nanj, 1.14259934e-09+2.83501321e-23j,\n",
      "       6.32492210e-10+1.56933731e-23j, ...,\n",
      "       5.55929058e-25+3.62567001e-45j, 5.55690311e-25+3.62411294e-45j,\n",
      "       5.55451307e-25+3.62255420e-45j])}, 'second_bispec': {'1h': {}, '2h': {}}, 'cross_w_gals': {'1h': {}, '2h': {}}}, 'cib': {'trispec': {'1h': {}, '2h': {}}, 'prim_bispec': {'1h': {}, '2h': {}}, 'second_bispec': {'1h': {}, '2h': {}}, 'cross_w_gals': {'1h': {}, '2h': {}}}, 'mixed': {'trispec': {'1h': {}, '2h': {}}, 'prim_bispec': {'1h': {}, '2h': {}}, 'second_bispec': {'1h': {}, '2h': {}}, 'cross_w_gals': {'1h': {}, '2h': {}}}}\n"
     ]
    }
   ],
   "source": [
    "dict_of_biases = qest.load_dict_of_biases()"
   ]
  },
  {
   "cell_type": "markdown",
   "metadata": {},
   "source": [
    "We can also use the standard Quicklens implementation of the QEs instead of FFTlog"
   ]
  },
  {
   "cell_type": "code",
   "execution_count": 11,
   "metadata": {},
   "outputs": [
    {
     "data": {
      "image/png": "[encoded data removed]",
      "text/plain": [
       "<Figure size 360x360 with 1 Axes>"
      ]
     },
     "metadata": {
      "needs_background": "light"
     },
     "output_type": "display_data"
    }
   ],
   "source": [
    "plt.figure(figsize=(5,5))\n",
    "scaling = experiment.biases['ells']**4 /(2*np.pi)\n",
    "\n",
    "flat_sky_correction = 1\n",
    "\n",
    "plt.plot(experiment.biases['ells'][experiment.biases[which_bias]['trispec']['1h']>0],flat_sky_correction**2 *(scaling * experiment.biases[which_bias]['trispec']['1h'])[experiment.biases[which_bias]['trispec']['1h']>0],color='b',label=r'{} 4pt, 1h '.format(which_bias))\n",
    "\n",
    "plt.plot(experiment.biases['ells'][experiment.biases[which_bias]['trispec']['2h']>0],flat_sky_correction**2 *(scaling * experiment.biases[which_bias]['trispec']['2h'])[experiment.biases[which_bias]['trispec']['2h']>0],color='b',label=r'{} 4pt, 2h '.format(which_bias),ls='--')\n",
    "plt.plot(experiment.biases['ells'][experiment.biases[which_bias]['trispec']['2h']<0],-flat_sky_correction**2 *(scaling * experiment.biases[which_bias]['trispec']['2h'])[experiment.biases[which_bias]['trispec']['2h']<0],color='b',ls='--')\n",
    "\n",
    "plt.plot(experiment.biases['ells'][experiment.biases[which_bias]['prim_bispec']['1h']>0],flat_sky_correction *(scaling *experiment.biases[which_bias]['prim_bispec']['1h'])[experiment.biases[which_bias]['prim_bispec']['1h']>0],color='r',label=r'{}$^2-\\kappa$, 1h'.format(which_bias))\n",
    "plt.plot(experiment.biases['ells'][experiment.biases[which_bias]['prim_bispec']['1h']<0],-flat_sky_correction*(scaling *experiment.biases[which_bias]['prim_bispec']['1h'])[experiment.biases[which_bias]['prim_bispec']['1h']<0],color='r')\n",
    "\n",
    "plt.plot(experiment.biases['ells'][experiment.biases[which_bias]['prim_bispec']['2h']>0],flat_sky_correction*(scaling *experiment.biases[which_bias]['prim_bispec']['2h'])[experiment.biases[which_bias]['prim_bispec']['2h']>0],color='r',label=r'{}$^2-\\kappa$, 2h'.format(which_bias),ls='--')\n",
    "plt.plot(experiment.biases['ells'][experiment.biases[which_bias]['prim_bispec']['2h']<0],-flat_sky_correction*(scaling *experiment.biases[which_bias]['prim_bispec']['2h'])[experiment.biases[which_bias]['prim_bispec']['2h']<0],color='r',ls='--')\n",
    "\n",
    "plt.annotate(r'$0.05\\,C_L^{\\kappa \\kappa}$', (2500,4e-11), rotation=-8)\n",
    "plt.plot(experiment.cl_unl.ls, 0.05* experiment.cl_unl.ls**4 * experiment.cl_unl.clpp /(2*np.pi),'k')\n",
    "plt.yscale('log')\n",
    "plt.legend(fontsize=10, ncol=2)\n",
    "plt.ylabel(r'$L^4 C_L^{\\phi\\phi}/ 2\\pi$',fontsize=10)\n",
    "plt.xlabel(r'$L$',fontsize=10)\n",
    "plt.title(r'Quicklens, l$_{\\mathrm{max}}=$'+str(lmax)+'$, M_{\\mathrm{max}}=$'+'{:.2E}'.format(experiment.massCut), fontsize=10)\n",
    "plt.xlim([2,3000])\n",
    "plt.ylim([1e-11,1e-7])\n",
    "\n",
    "ax = plt.gca()\n",
    "ax.tick_params(axis='both', which='major', labelsize=8)\n",
    "ax.tick_params(axis='both', which='minor', labelsize=8)\n",
    "\n",
    "#plt.savefig('../plots/tsz_bias_for_diff_mass_cuts/1D_reconstructions/biases_lmax{}_masscut{}.pdf'.format(lmax, '1e14'))\n"
   ]
  },
  {
   "cell_type": "markdown",
   "metadata": {},
   "source": [
    "# Calculate biases to cross-correlations with galaxies"
   ]
  },
  {
   "cell_type": "code",
   "execution_count": null,
   "metadata": {},
   "outputs": [],
   "source": [
    "survey_name = \"DESI LRG\"\n",
    "\n",
    "# Add the HOD for the galaxy sample that we will cross-correlating with lensing\n",
    "z_mean_gal, surface_ngal_of_z_gal = tls.get_DESI_surface_ngal_of_z('lrg')\n",
    "comov_ngal_gal_persqdeg_interp = np.interp(hm_calc.hcos.zs, z_mean_gal, tls.get_comoving_from_surface_ngal(z_mean_gal, surface_ngal_of_z_gal))\n",
    "hm_calc.hcos.add_hod(name=survey_name, ngal=comov_ngal_gal_persqdeg_interp) "
   ]
  },
  {
   "cell_type": "code",
   "execution_count": 32,
   "metadata": {
    "ExecuteTime": {
     "end_time": "2022-09-28T22:42:05.363294Z",
     "start_time": "2022-09-28T22:38:38.672834Z"
    }
   },
   "outputs": [
    {
     "data": {
      "text/plain": [
       "<Figure size 360x360 with 0 Axes>"
      ]
     },
     "metadata": {},
     "output_type": "display_data"
    }
   ],
   "source": [
    "which_bias = 'tsz' #''tsz' or 'cib' or 'mixed'\n",
    "experiment = SPT_5e15\n",
    "\n",
    "if which_bias=='tsz':\n",
    "    hm_calc.get_tsz_cross_biases(experiment, survey_name=survey_name)\n",
    "elif which_bias=='cib':\n",
    "    hm_calc.get_cib_cross_biases(experiment, survey_name=survey_name)\n",
    "elif which_bias=='mixed':\n",
    "    hm_calc.get_mixed_cross_biases(experiment, survey_name=survey_name)\n",
    "\n",
    "plt.figure(figsize=(5, 5))\n",
    "scaling = 1\n",
    "\n",
    "# Split into negative and positive parts for plotting convenience\n",
    "cross_w_gals_1h_pos, cross_w_gals_1h_neg = tls.split_positive_negative(experiment.biases[which_bias]['cross_w_gals']['1h'])\n",
    "cross_w_gals_2h_pos, cross_w_gals_2h_neg = tls.split_positive_negative(experiment.biases[which_bias]['cross_w_gals']['2h'])\n",
    "\n",
    "# Plot the signal clkg\n",
    "pgm_1h = hm_calc.hcos.get_power_1halo(\"nfw\", survey_name)\n",
    "pgm_2h = hm_calc.hcos.get_power_2halo(\"nfw\", survey_name)\n",
    "Pgm = pgm_1h + pgm_2h\n",
    "ells = np.linspace(2, 3000, 300)\n",
    "Cls = hm_calc.hcos.C_kg(ells, hm_calc.hcos.zs, hm_calc.hcos.ks, Pgm, gzs=z_mean_gal, gdndz=surface_ngal_of_z_gal, lzs=1100.)"
   ]
  },
  {
   "cell_type": "code",
   "execution_count": 34,
   "metadata": {
    "ExecuteTime": {
     "end_time": "2022-09-28T22:52:27.135435Z",
     "start_time": "2022-09-28T22:52:26.076308Z"
    }
   },
   "outputs": [
    {
     "data": {
      "image/png": "[encoded data removed]",
      "text/plain": [
       "<Figure size 432x288 with 1 Axes>"
      ]
     },
     "metadata": {
      "needs_background": "light"
     },
     "output_type": "display_data"
    },
    {
     "data": {
      "text/plain": [
       "Text(0.5, 1.0, 'Bias from tsz')"
      ]
     },
     "execution_count": 34,
     "metadata": {},
     "output_type": "execute_result"
    },
    {
     "data": {
      "image/png": "[encoded data removed]",
      "text/plain": [
       "<Figure size 432x288 with 1 Axes>"
      ]
     },
     "metadata": {
      "needs_background": "light"
     },
     "output_type": "display_data"
    }
   ],
   "source": [
    "plt.plot(ells, 0.05 * Cls, 'k', label=r'signal $\\times 0.05$')\n",
    "\n",
    "plt.plot(experiment.biases['ells'], scaling * cross_w_gals_1h_pos, color='b', label='1-halo bias')\n",
    "plt.plot(experiment.biases['ells'], scaling * cross_w_gals_1h_neg, color='b', ls='--')\n",
    "\n",
    "plt.plot(experiment.biases['ells'], scaling * cross_w_gals_2h_pos, color='r', label='2-halo bias')\n",
    "plt.plot(experiment.biases['ells'], scaling * cross_w_gals_2h_neg, color='r', ls='--')\n",
    "\n",
    "plt.yscale('log')\n",
    "plt.xlim([2, 3000])\n",
    "ax = plt.gca()\n",
    "ax.tick_params(axis='both', which='major', labelsize=8)\n",
    "ax.tick_params(axis='both', which='minor', labelsize=8)\n",
    "plt.ylabel(r'$C_{L}^{\\delta_{g}\\kappa}$')\n",
    "plt.xlabel(r'$L$')\n",
    "plt.legend()\n",
    "plt.title('Bias from {}'.format(which_bias))\n",
    "plt.show()\n",
    "\n",
    "plt.semilogy(ells, np.interp(ells, experiment.biases['ells'], cross_w_gals_1h_pos + cross_w_gals_2h_pos) / Cls, color='k')\n",
    "plt.semilogy(ells, np.interp(ells, experiment.biases['ells'], cross_w_gals_1h_neg + cross_w_gals_2h_neg) / Cls, color='k', ls='--')\n",
    "plt.ylabel(r'$\\Delta C_{L}^{\\delta_{g}\\kappa} / C_{L}^{\\delta_{g}\\kappa}$')\n",
    "plt.xlabel(r'$L$')\n",
    "plt.title('Bias from {}'.format(which_bias))"
   ]
  },
  {
   "cell_type": "markdown",
   "metadata": {
    "collapsed": true
   },
   "source": [
    "# Test the FFTlog implementation of the QE"
   ]
  },
  {
   "cell_type": "markdown",
   "metadata": {},
   "source": [
    "We now test the FFTlog implementation of the 1D TT QE against a brute-force calculation of the integrals"
   ]
  },
  {
   "cell_type": "markdown",
   "metadata": {},
   "source": [
    "Generate a y profile"
   ]
  },
  {
   "cell_type": "code",
   "execution_count": 10,
   "metadata": {
    "collapsed": true
   },
   "outputs": [],
   "source": [
    "y = tls.pkToPell(hm_calc.hcos.comoving_radial_distance(hm_calc.hcos.zs[1]),hm_calc.hcos.ks,\\\n",
    "                 hm_calc.hcos.pk_profiles['y'][1,1]*(1-np.exp(-(hm_calc.hcos.ks/hm_calc.hcos.p['kstar_damping']))), ellmax=SPT.lmax)"
   ]
  },
  {
   "cell_type": "markdown",
   "metadata": {},
   "source": [
    "Calculate the (unnormalised) lensing reconstruction by brute force (this can be very slow)"
   ]
  },
  {
   "cell_type": "code",
   "execution_count": 11,
   "metadata": {},
   "outputs": [
    {
     "name": "stdout",
     "output_type": "stream",
     "text": [
      "dealing with integrable singularity by setting to 0\n",
      "dealing with integrable singularity by setting to 0\n",
      "dealing with integrable singularity by setting to 0\n",
      "dealing with integrable singularity by setting to 0\n",
      "dealing with integrable singularity by setting to 0\n",
      "dealing with integrable singularity by setting to 0\n",
      "dealing with integrable singularity by setting to 0\n",
      "dealing with integrable singularity by setting to 0\n",
      "dealing with integrable singularity by setting to 0\n",
      "dealing with integrable singularity by setting to 0\n",
      "dealing with integrable singularity by setting to 0\n",
      "dealing with integrable singularity by setting to 0\n",
      "dealing with integrable singularity by setting to 0\n"
     ]
    }
   ],
   "source": [
    "output_ells = np.linspace(20, 3000, 10)\n",
    "\n",
    "unnorm_rec_bruteforce = SPT.get_brute_force_unnorm_TT_qe(output_ells,y)"
   ]
  },
  {
   "cell_type": "markdown",
   "metadata": {},
   "source": [
    "Now calculate it using FFTlog"
   ]
  },
  {
   "cell_type": "code",
   "execution_count": 101,
   "metadata": {
    "collapsed": true
   },
   "outputs": [],
   "source": [
    "output_ells_refined =  np.arange(3000)\n",
    "\n",
    "# FFTlog parameters\n",
    "N_l= 2*4096#2*4096\n",
    "lmin= .000135 #0.000135\n",
    "alpha= -1.35#-1.35\n",
    "\n",
    "unnorm_rec_fftlog = SPT.get_unnorm_TT_qe(output_ells_refined,y, N_l=N_l, lmin=lmin, alpha=alpha)"
   ]
  },
  {
   "cell_type": "markdown",
   "metadata": {},
   "source": [
    "Compare the two"
   ]
  },
  {
   "cell_type": "code",
   "execution_count": 102,
   "metadata": {},
   "outputs": [
    {
     "data": {
      "text/plain": [
       "<matplotlib.legend.Legend at 0x7fa11de4f460>"
      ]
     },
     "execution_count": 102,
     "metadata": {},
     "output_type": "execute_result"
    },
    {
     "data": {
      "image/png": "[encoded data removed]",
      "text/plain": [
       "<Figure size 432x288 with 1 Axes>"
      ]
     },
     "metadata": {
      "needs_background": "light"
     },
     "output_type": "display_data"
    }
   ],
   "source": [
    "plt.semilogy(output_ells_refined, unnorm_rec_fftlog, color='tab:orange', label='FFTlog (+ve)')\n",
    "plt.semilogy(output_ells_refined, - unnorm_rec_fftlog, color='tab:gray', label='FFTlog (-ve)')\n",
    "\n",
    "plt.semilogy(output_ells, unnorm_rec_bruteforce, marker='o', lw=0, markersize=5, color='tab:orange', label='brute force (+ve)')\n",
    "plt.semilogy(output_ells, -unnorm_rec_bruteforce, marker='o', markersize=5, lw=0, color='tab:gray', label='brute force (-ve)')\n",
    "\n",
    "plt.xlim([1, 3000])\n",
    "plt.ylim([1e7, 1e12])\n",
    "plt.xlabel('l')\n",
    "plt.ylabel(r'unnormalised $\\phi^{\\mathrm{rec}} (l)$')\n",
    "plt.legend(loc='upper left', ncol=2)\n"
   ]
  },
  {
   "cell_type": "markdown",
   "metadata": {
    "collapsed": true
   },
   "source": [
    "# Calculate the biases to B-mode delensing"
   ]
  },
  {
   "cell_type": "code",
   "execution_count": 170,
   "metadata": {
    "ExecuteTime": {
     "end_time": "2022-06-18T04:17:36.097256Z",
     "start_time": "2022-06-18T04:16:42.885065Z"
    }
   },
   "outputs": [],
   "source": [
    "SO_5e15 = qest.experiment(6., 1.5, 3000, massCut_Mvir=5e15, freq_GHz=freq_GHz)\n",
    "SO_1e15 = qest.experiment(6., 1.5, 3000, massCut_Mvir=1e15, freq_GHz=freq_GHz)\n",
    "SO_5e14 = qest.experiment(6., 1.5, 3000, massCut_Mvir=5e14, freq_GHz=freq_GHz)"
   ]
  },
  {
   "cell_type": "code",
   "execution_count": 171,
   "metadata": {
    "ExecuteTime": {
     "end_time": "2022-06-18T04:18:22.307256Z",
     "start_time": "2022-06-18T04:17:36.101166Z"
    }
   },
   "outputs": [
    {
     "data": {
      "text/plain": [
       "(-1e-07, 1.5e-07)"
      ]
     },
     "execution_count": 171,
     "metadata": {},
     "output_type": "execute_result"
    },
    {
     "data": {
      "image/png": "[encoded data removed]",
      "text/plain": [
       "<Figure size 432x288 with 1 Axes>"
      ]
     },
     "metadata": {
      "needs_background": "light"
     },
     "output_type": "display_data"
    }
   ],
   "source": [
    "ells, cl_Btemp_x_Blens_bias, cl_Btemp_x_Btemp_bias, cl_Bdel_x_Bdel_bias = hm_calc.get_bias_to_delensed_clbb(SO_5e15)\n",
    "\n",
    "plt.plot(ells, cl_Btemp_x_Blens_bias, label=r'Btemp_x_Blens')\n",
    "plt.plot(ells, cl_Btemp_x_Btemp_bias, label=r'Btemp_x_Btemp')\n",
    "plt.plot(ells, cl_Bdel_x_Bdel_bias, label=r'Bdel_x_Bdel')\n",
    "plt.ylabel(r'$C_l^{BB}$ [$\\mu$K$^2$]')\n",
    "plt.xlabel(r'$l$')\n",
    "plt.legend()\n",
    "plt.axhline(0, color='k', lw=0.5)\n",
    "plt.ylim([-1e-7,1.5e-7])"
   ]
  },
  {
   "cell_type": "code",
   "execution_count": 172,
   "metadata": {
    "ExecuteTime": {
     "end_time": "2022-06-18T04:18:50.357399Z",
     "start_time": "2022-06-18T04:18:22.310485Z"
    }
   },
   "outputs": [
    {
     "data": {
      "text/plain": [
       "(-1e-07, 1.5e-07)"
      ]
     },
     "execution_count": 172,
     "metadata": {},
     "output_type": "execute_result"
    },
    {
     "data": {
      "image/png": "[encoded data removed]",
      "text/plain": [
       "<Figure size 432x288 with 1 Axes>"
      ]
     },
     "metadata": {
      "needs_background": "light"
     },
     "output_type": "display_data"
    }
   ],
   "source": [
    "ells, cl_Btemp_x_Blens_bias_SO_1e15, cl_Btemp_x_Btemp_bias_SO_1e15, cl_Bdel_x_Bdel_bias_SO_1e15 = hm_calc.get_bias_to_delensed_clbb(SO_5e14)\n",
    "\n",
    "plt.plot(ells, cl_Btemp_x_Blens_bias_SO_1e15, label=r'Btemp_x_Blens')\n",
    "plt.plot(ells, cl_Btemp_x_Btemp_bias_SO_1e15, label=r'Btemp_x_Btemp')\n",
    "plt.plot(ells, cl_Bdel_x_Bdel_bias_SO_1e15, label=r'Bdel_x_Bdel')\n",
    "plt.ylabel(r'$C_l^{BB}$ [$\\mu$K$^2$]')\n",
    "plt.xlabel(r'$l$')\n",
    "plt.legend()\n",
    "plt.axhline(0, color='k', lw=0.5)\n",
    "plt.ylim([-1e-7,1.5e-7])"
   ]
  },
  {
   "cell_type": "code",
   "execution_count": 173,
   "metadata": {
    "ExecuteTime": {
     "end_time": "2022-06-18T04:19:18.450157Z",
     "start_time": "2022-06-18T04:18:50.363338Z"
    }
   },
   "outputs": [
    {
     "data": {
      "text/plain": [
       "(-1e-07, 1.5e-07)"
      ]
     },
     "execution_count": 173,
     "metadata": {},
     "output_type": "execute_result"
    },
    {
     "data": {
      "image/png": "[encoded data removed]",
      "text/plain": [
       "<Figure size 432x288 with 1 Axes>"
      ]
     },
     "metadata": {
      "needs_background": "light"
     },
     "output_type": "display_data"
    }
   ],
   "source": [
    "ells, cl_Btemp_x_Blens_bias_SO_5e14, cl_Btemp_x_Btemp_bias_SO_5e14, cl_Bdel_x_Bdel_bias_SO_5e14 = hm_calc.get_bias_to_delensed_clbb(SO_5e14)\n",
    "\n",
    "plt.plot(ells, cl_Btemp_x_Blens_bias_SO_5e14, label=r'Btemp_x_Blens')\n",
    "plt.plot(ells, cl_Btemp_x_Btemp_bias_SO_5e14, label=r'Btemp_x_Btemp')\n",
    "plt.plot(ells, cl_Bdel_x_Bdel_bias_SO_5e14, label=r'Bdel_x_Bdel')\n",
    "plt.ylabel(r'$C_l^{BB}$ [$\\mu$K$^2$]')\n",
    "plt.xlabel(r'$l$')\n",
    "plt.legend()\n",
    "plt.axhline(0, color='k', lw=0.5)\n",
    "plt.ylim([-1e-7,1.5e-7])"
   ]
  },
  {
   "cell_type": "code",
   "execution_count": null,
   "metadata": {},
   "outputs": [],
   "source": []
  }
 ],
 "metadata": {
  "kernelspec": {
   "display_name": "lensing_py3",
   "language": "python",
   "name": "lensing_py3"
  },
  "language_info": {
   "codemirror_mode": {
    "name": "ipython",
    "version": 3
   },
   "file_extension": ".py",
   "mimetype": "text/x-python",
   "name": "python",
   "nbconvert_exporter": "python",
   "pygments_lexer": "ipython3",
   "version": "3.7.12"
  },
  "toc": {
   "base_numbering": 1,
   "nav_menu": {},
   "number_sections": true,
   "sideBar": true,
   "skip_h1_title": false,
   "title_cell": "Table of Contents",
   "title_sidebar": "Contents",
   "toc_cell": false,
   "toc_position": {
    "height": "calc(100% - 180px)",
    "left": "10px",
    "top": "150px",
    "width": "165px"
   },
   "toc_section_display": true,
   "toc_window_display": true
  }
 },
 "nbformat": 4,
 "nbformat_minor": 2
}
