{
 "cells": [
  {
   "cell_type": "code",
   "execution_count": 1,
   "metadata": {
    "ExecuteTime": {
     "end_time": "2024-02-13T23:52:21.320902Z",
     "start_time": "2024-02-13T23:52:13.458926Z"
    }
   },
   "outputs": [
    {
     "name": "stderr",
     "output_type": "stream",
     "text": [
      "/var/folders/zf/xwwhf0ps6yx93zy9ttqm3mm80000gn/T/ipykernel_22984/2993469229.py:5: DeprecationWarning: Importing display from IPython.core.display is deprecated since IPython 7.14, please import from IPython display\n",
      "  from IPython.core.display import display, HTML\n"
     ]
    },
    {
     "data": {
      "text/plain": "<IPython.core.display.HTML object>",
      "text/html": "<style>.container { width:85% !important; }</style>"
     },
     "metadata": {},
     "output_type": "display_data"
    },
    {
     "name": "stderr",
     "output_type": "stream",
     "text": [
      "IMPORT ERROR: /Users/antonbaleatolizancos/anaconda3/envs/for_cosmoblender/lib/python3.11/site-packages/quicklens-0.0.0-py3.11.egg/quicklens/mpi.py (No module named 'pypar'). Could not load pbs or pypar. MPI will not be used.\n",
      "IMPORT ERROR: /Users/antonbaleatolizancos/anaconda3/envs/for_cosmoblender/lib/python3.11/site-packages/quicklens-0.0.0-py3.11.egg/quicklens/shts/__init__.py (No module named 'fsht'). Try running 'python setup.py install' or 'python setup.py build_ext --inplace' from the quicklens directory.\n"
     ]
    }
   ],
   "source": [
    "%load_ext autoreload\n",
    "%autoreload 2\n",
    "%matplotlib inline\n",
    "\n",
    "from IPython.core.display import display, HTML\n",
    "display(HTML(\"<style>.container { width:85% !important; }</style>\"))\n",
    "\n",
    "import warnings\n",
    "warnings.filterwarnings('ignore')\n",
    "\n",
    "import numpy as np\n",
    "import matplotlib.pyplot as plt\n",
    "from cosmoblender import tools as tls\n",
    "from cosmoblender import qest\n",
    "from cosmoblender import biases"
   ]
  },
  {
   "cell_type": "markdown",
   "metadata": {},
   "source": [
    "Initialise experiment object"
   ]
  },
  {
   "cell_type": "code",
   "execution_count": 2,
   "metadata": {
    "ExecuteTime": {
     "end_time": "2024-02-13T23:52:21.334050Z",
     "start_time": "2024-02-13T23:52:21.321541Z"
    }
   },
   "outputs": [],
   "source": [
    "# Foreground cleaning? Only relevant if many frequencies are provided\n",
    "MV_ILC_bool = True \n",
    "deproject_CIB = False\n",
    "deproject_tSZ = False\n",
    "fg_cleaning_dict = {'MV_ILC_bool':MV_ILC_bool, 'deproject_CIB':deproject_CIB, 'deproject_tSZ':deproject_tSZ}"
   ]
  },
  {
   "cell_type": "code",
   "execution_count": 3,
   "metadata": {
    "ExecuteTime": {
     "end_time": "2024-02-13T23:52:26.801971Z",
     "start_time": "2024-02-13T23:52:21.334559Z"
    }
   },
   "outputs": [],
   "source": [
    "SPT_properties = {'nlev_t': np.array([18.]),\n",
    "                  'beam_size':np.array([1.]),\n",
    "                  'freq_GHz': np.array([143.])}\n",
    "\n",
    "# Initialise experiments with various different mass cuts\n",
    "SPT_5e15 = qest.experiment(lmax = 3000, massCut_Mvir=5e15, **SPT_properties, **fg_cleaning_dict)"
   ]
  },
  {
   "cell_type": "code",
   "execution_count": 4,
   "metadata": {
    "ExecuteTime": {
     "end_time": "2024-02-13T23:52:36.592205Z",
     "start_time": "2024-02-13T23:52:26.803112Z"
    }
   },
   "outputs": [],
   "source": [
    "SO_properties = {'nlev_t': np.array([52., 27., 5.8, 6.3, 15., 37.]),\n",
    "                 'beam_size':np.array([7.4, 5.1, 2.2, 1.4, 1.0, 0.9]),\n",
    "                 'freq_GHz': np.array([27.3, 41.7, 93., 143., 225.,278.])}\n",
    "\n",
    "# Initialise experiments with various different mass cuts\n",
    "SO_5e15 = qest.experiment(lmax = 4000, massCut_Mvir=1e16, **SO_properties, **fg_cleaning_dict)"
   ]
  },
  {
   "cell_type": "code",
   "execution_count": 5,
   "metadata": {
    "ExecuteTime": {
     "end_time": "2024-02-13T23:52:36.605832Z",
     "start_time": "2024-02-13T23:52:36.592356Z"
    }
   },
   "outputs": [],
   "source": [
    "# Choose an experiment\n",
    "experiment = SO_5e15"
   ]
  },
  {
   "cell_type": "markdown",
   "metadata": {},
   "source": [
    "One can later inspect the properties by doing"
   ]
  },
  {
   "cell_type": "code",
   "execution_count": 6,
   "metadata": {
    "ExecuteTime": {
     "end_time": "2024-02-13T23:52:36.618210Z",
     "start_time": "2024-02-13T23:52:36.606002Z"
    }
   },
   "outputs": [
    {
     "name": "stdout",
     "output_type": "stream",
     "text": [
      "Mass Cut: 1.00e+16  lmax: 4000  Beam FWHM: [7.4 5.1 2.2 1.4 1.  0.9] Noise (uK arcmin): [52.  27.   5.8  6.3 15.  37. ]  Freq (GHz): [ 27.3  41.7  93.  143.  225.  278. ]\n"
     ]
    }
   ],
   "source": [
    "print(experiment)"
   ]
  },
  {
   "cell_type": "markdown",
   "metadata": {},
   "source": [
    "Initialise halo model calculator"
   ]
  },
  {
   "cell_type": "code",
   "execution_count": 7,
   "metadata": {
    "ExecuteTime": {
     "end_time": "2024-02-13T23:52:41.037510Z",
     "start_time": "2024-02-13T23:52:36.618819Z"
    }
   },
   "outputs": [],
   "source": [
    "# You can specify a cosmological model -- in this case, match Websky\n",
    "H0 = 68.\n",
    "cosmoParams = {'As':2.08e-9,'ns':.965,'omch2':(0.31-0.049)*(H0/100.)**2,'ombh2':0.049*(H0/100.)**2,'tau':0.055,'H0':H0}\n",
    "\n",
    "z_max = 5 #3\n",
    "nZs = 40 #50\n",
    "nMasses = 40  #30\n",
    "Mmin = 1e8 #Keep this low -- the 2h term of the bispectrum bias can be sensitive to quite low-mass halos\n",
    "\n",
    "# Set CIB halo model\n",
    "cib_model='planck13'#'vierro'\n",
    "\n",
    "# Initialise a halo model object for the calculation, using mostly default parameters\n",
    "hm_calc = biases.hm_framework(cosmoParams=cosmoParams, m_min=Mmin, nZs=nZs, nMasses=nMasses, cib_model=cib_model, z_max=z_max)"
   ]
  },
  {
   "cell_type": "markdown",
   "metadata": {},
   "source": [
    "Again, we can print out its properties"
   ]
  },
  {
   "cell_type": "code",
   "execution_count": 8,
   "metadata": {
    "ExecuteTime": {
     "end_time": "2024-02-13T23:52:41.049329Z",
     "start_time": "2024-02-13T23:52:41.031066Z"
    }
   },
   "outputs": [
    {
     "name": "stdout",
     "output_type": "stream",
     "text": [
      "M_min: 1.00e+08  M_max: 5.00e+15  n_Masses: 40\n",
      "  z_min: 0.07  z_max: 5.00  n_zs: 40\n",
      "  Mass function: sheth-torman  Mass definition: vir\n"
     ]
    }
   ],
   "source": [
    "print(hm_calc)"
   ]
  },
  {
   "cell_type": "markdown",
   "metadata": {},
   "source": [
    "# Calculate the biases"
   ]
  },
  {
   "cell_type": "markdown",
   "metadata": {},
   "source": [
    "Run the main function for each of the mass cuts, and for either the tsz or cib calculation, using the FFTlog approach"
   ]
  },
  {
   "cell_type": "markdown",
   "metadata": {
    "pycharm": {
     "name": "#%% md\n"
    }
   },
   "source": [
    "Calculate and plot the biases"
   ]
  },
  {
   "cell_type": "code",
   "execution_count": 9,
   "metadata": {
    "ExecuteTime": {
     "end_time": "2024-02-13T23:53:00.025055Z",
     "start_time": "2024-02-13T23:52:41.047722Z"
    }
   },
   "outputs": [
    {
     "name": "stderr",
     "output_type": "stream",
     "text": [
      "2024-02-13 15:52:44.279634: W pjrt_plugin/src/mps_client.cc:534] WARNING: JAX Apple GPU support is experimental and not all JAX functionality is correctly supported!\n"
     ]
    },
    {
     "name": "stdout",
     "output_type": "stream",
     "text": [
      "Metal device set to: Apple M2 Max\n",
      "Now in parallel loop 0\n",
      "Now in parallel loop 1\n",
      "Now in parallel loop 2\n",
      "Now in parallel loop 3\n",
      "Now in parallel loop 4\n",
      "Now in parallel loop 5\n",
      "Now in parallel loop 6\n",
      "Now in parallel loop 7\n",
      "Now in parallel loop 8\n",
      "Now in parallel loop 9\n",
      "Now in parallel loop 10\n",
      "Now in parallel loop 11\n",
      "Now in parallel loop 12\n",
      "Now in parallel loop 13\n",
      "Now in parallel loop 14\n",
      "Now in parallel loop 15\n",
      "Now in parallel loop 16\n",
      "Now in parallel loop 17\n",
      "Now in parallel loop 18\n",
      "Now in parallel loop 19\n",
      "Now in parallel loop 20\n",
      "Now in parallel loop 21\n",
      "Now in parallel loop 22\n",
      "Now in parallel loop 23\n",
      "Now in parallel loop 24\n",
      "Now in parallel loop 25\n",
      "Now in parallel loop 26\n",
      "Now in parallel loop 27\n",
      "Now in parallel loop 28\n",
      "Now in parallel loop 29\n",
      "Now in parallel loop 30\n",
      "Now in parallel loop 31\n",
      "Now in parallel loop 32\n",
      "Now in parallel loop 33\n",
      "Now in parallel loop 34\n",
      "Now in parallel loop 35\n",
      "Now in parallel loop 36\n",
      "Now in parallel loop 37\n",
      "Now in parallel loop 38\n",
      "Now in parallel loop 39\n"
     ]
    }
   ],
   "source": [
    "which_bias = 'tsz' # 'tsz' or 'cib' or 'mixed'\n",
    "\n",
    "# Calculate secondary bispectrum bias? Note that this is a bit lower that the other implemented terms\n",
    "get_secondary_bispec_bias = False\n",
    "parallelise_secondbispec = False\n",
    "\n",
    "if which_bias=='tsz':\n",
    "    hm_calc.get_tsz_auto_biases(experiment, get_secondary_bispec_bias=get_secondary_bispec_bias,\n",
    "                                parallelise_secondbispec=parallelise_secondbispec, bin_width_out_second_bispec_bias=100)\n",
    "if which_bias=='cib':\n",
    "    hm_calc.get_cib_auto_biases(experiment, get_secondary_bispec_bias=get_secondary_bispec_bias,\n",
    "                               parallelise_secondbispec=parallelise_secondbispec, bin_width_out_second_bispec_bias=100)\n",
    "if which_bias=='mixed':\n",
    "    hm_calc.get_mixed_auto_biases(experiment, get_secondary_bispec_bias=get_secondary_bispec_bias,\n",
    "                                 parallelise_secondbispec=parallelise_secondbispec, bin_width_out_second_bispec_bias=100)"
   ]
  },
  {
   "cell_type": "code",
   "execution_count": 10,
   "outputs": [
    {
     "data": {
      "text/plain": "<Figure size 640x480 with 1 Axes>",
      "image/png": "[encoded data removed]"
     },
     "metadata": {},
     "output_type": "display_data"
    }
   ],
   "source": [
    "# Break down contributions into n-halo terms?\n",
    "breakdown = True\n",
    "\n",
    "plt.figure()\n",
    "title=''\n",
    "\n",
    "scaling = experiment.biases['ells']**4 /4.\n",
    "if get_secondary_bispec_bias:\n",
    "    # TODO: a factor of 1/2 would make the 2ndary bispec agree better with expectations\n",
    "    scaling_second_bispec_bias = experiment.biases['second_bispec_bias_ells']**4 /4.\n",
    "    #scaling_second_bispec_bias[:3] = np.nan\n",
    "\n",
    "# Split into negative and positive parts for plotting convenience\n",
    "prim_bispec_1h_pos, prim_bispec_1h_neg = tls.split_positive_negative(experiment.biases[which_bias]['prim_bispec']['1h'])\n",
    "prim_bispec_2h_pos, prim_bispec_2h_neg = tls.split_positive_negative(experiment.biases[which_bias]['prim_bispec']['2h'])\n",
    "prim_bispec_tot_pos, prim_bispec_tot_neg = tls.split_positive_negative(experiment.biases[which_bias]['prim_bispec']['2h']+experiment.biases[which_bias]['prim_bispec']['1h'])\n",
    "\n",
    "trispec_1h_pos, trispec_1h_neg = tls.split_positive_negative(experiment.biases[which_bias]['trispec']['1h'])\n",
    "trispec_2h_pos, trispec_2h_neg = tls.split_positive_negative(experiment.biases[which_bias]['trispec']['2h'])\n",
    "trispec_tot_pos, trispec_tot_neg = tls.split_positive_negative(experiment.biases[which_bias]['trispec']['2h']+ experiment.biases[which_bias]['trispec']['1h'])\n",
    "\n",
    "if get_secondary_bispec_bias:\n",
    "    sec_bispec_1h_pos, sec_bispec_1h_neg = tls.split_positive_negative(experiment.biases[which_bias]['second_bispec']['1h'])\n",
    "    sec_bispec_2h_pos, sec_bispec_2h_neg = tls.split_positive_negative(experiment.biases[which_bias]['second_bispec']['2h'])\n",
    "    sec_bispec_tot_pos, sec_bispec_tot_neg = tls.split_positive_negative ( experiment.biases[which_bias]['second_bispec']['2h'] +experiment.biases[which_bias]['second_bispec']['1h'])\n",
    "\n",
    "plt.plot(experiment.biases['ells'], scaling * trispec_tot_pos, color='b', label=r'{} trispec. bias, tot '.format(which_bias))\n",
    "plt.plot(experiment.biases['ells'], scaling * trispec_tot_neg, color='b', ls='--')\n",
    "\n",
    "if breakdown:\n",
    "    title='_withbreakdown'\n",
    "    plt.plot(experiment.biases['ells'], scaling * trispec_1h_pos, color='b', label=r'{} trispec. bias, 1h '.format(which_bias), ls=':')\n",
    "    plt.plot(experiment.biases['ells'], scaling * trispec_1h_neg, color='b', ls=':')\n",
    "\n",
    "    plt.plot(experiment.biases['ells'], scaling * trispec_2h_pos, color='b', label=r'{} trispec. bias, 2h '.format(which_bias), ls='-.')\n",
    "    plt.plot(experiment.biases['ells'], scaling * trispec_2h_neg, color='b', ls='-.')\n",
    "\n",
    "plt.plot(experiment.biases['ells'], scaling * prim_bispec_tot_pos, color='r',label=r'{} prim. bispec. bias, tot'.format(which_bias))\n",
    "plt.plot(experiment.biases['ells'], scaling * prim_bispec_tot_neg, color='r', ls='--')\n",
    "\n",
    "if breakdown:\n",
    "    plt.plot(experiment.biases['ells'], scaling * prim_bispec_1h_pos, color='r', label=r'{} prim. bispec. bias, 1h '.format(which_bias), ls=':')\n",
    "    plt.plot(experiment.biases['ells'], scaling * prim_bispec_1h_neg, color='r', ls=':')\n",
    "\n",
    "    plt.plot(experiment.biases['ells'], scaling * prim_bispec_2h_pos, color='r', label=r'{} prim. bispec. bias, 2h '.format(which_bias), ls='-.')\n",
    "    plt.plot(experiment.biases['ells'], scaling * prim_bispec_2h_neg, color='r', ls='-.')\n",
    "\n",
    "if get_secondary_bispec_bias:\n",
    "    plt.plot(experiment.biases['second_bispec_bias_ells'], scaling_second_bispec_bias * sec_bispec_tot_pos, color='orange',label=r'{} sec. bispec. bias, tot'.format(which_bias))\n",
    "    plt.plot(experiment.biases['second_bispec_bias_ells'], scaling_second_bispec_bias * sec_bispec_tot_neg, color='orange', ls='--')\n",
    "\n",
    "    if breakdown:\n",
    "        plt.plot(experiment.biases['second_bispec_bias_ells'], scaling_second_bispec_bias * sec_bispec_1h_pos, color='orange', label=r'{} sec. bispec. bias, 1h '.format(which_bias), ls=':')\n",
    "        plt.plot(experiment.biases['second_bispec_bias_ells'], scaling_second_bispec_bias * sec_bispec_1h_neg, color='orange', ls=':')\n",
    "\n",
    "        plt.plot(experiment.biases['second_bispec_bias_ells'], scaling_second_bispec_bias * sec_bispec_2h_pos, color='orange', label=r'{} sec. bispec. bias, 2h '.format(which_bias), ls='-.')\n",
    "        plt.plot(experiment.biases['second_bispec_bias_ells'], scaling_second_bispec_bias * sec_bispec_2h_neg, color='orange', ls='-.')\n",
    "\n",
    "plt.plot(experiment.cl_unl.ls, 0.05* experiment.cl_unl.ls**4 * experiment.cl_unl.clpp /4.,'k', label=r'$0.05\\,\\times\\,$signal')\n",
    "plt.yscale('log')\n",
    "plt.ylabel(r'$C_L^{\\kappa\\kappa}$',fontsize=15)\n",
    "plt.xlabel(r'$L$',fontsize=15)\n",
    "plt.xlim([2,3000])\n",
    "plt.ylim([1e-15,1e-5])\n",
    "\n",
    "plt.legend()\n",
    "\n",
    "ax = plt.gca()\n",
    "ax.tick_params(axis='both', which='major', labelsize=8)\n",
    "ax.tick_params(axis='both', which='minor', labelsize=8)"
   ],
   "metadata": {
    "collapsed": false,
    "ExecuteTime": {
     "end_time": "2024-02-13T23:53:00.382895Z",
     "start_time": "2024-02-13T23:53:00.031605Z"
    }
   }
  },
  {
   "cell_type": "markdown",
   "metadata": {},
   "source": [
    "We can save the dictionary of biases to file as"
   ]
  },
  {
   "cell_type": "code",
   "execution_count": 13,
   "metadata": {
    "ExecuteTime": {
     "end_time": "2023-09-27T22:05:29.549709Z",
     "start_time": "2023-09-27T22:05:29.521058Z"
    }
   },
   "outputs": [],
   "source": [
    "experiment.save_biases()"
   ]
  },
  {
   "cell_type": "markdown",
   "metadata": {},
   "source": [
    "and later retrieve them as"
   ]
  },
  {
   "cell_type": "code",
   "execution_count": 14,
   "metadata": {
    "ExecuteTime": {
     "end_time": "2023-09-27T22:05:31.472198Z",
     "start_time": "2023-09-27T22:05:31.448567Z"
    }
   },
   "outputs": [
    {
     "name": "stdout",
     "output_type": "stream",
     "text": [
      "Successfully loaded experiment object with properties:\n",
      "\n",
      "{'ells': array([   0,    1,    2, ..., 2998, 2999, 3000]), 'second_bispec_bias_ells': array([  60.,  160.,  260.,  360.,  460.,  560.,  660.,  760.,  860.,\n",
      "        960., 1060., 1160., 1260., 1360., 1460., 1560., 1660., 1760.,\n",
      "       1860., 1960., 2060., 2160., 2260., 2360., 2460., 2560., 2660.,\n",
      "       2760., 2860.]), 'tsz': {'trispec': {'1h': array([0.00000000e+00+0.00000000e+00j, 1.24942343e-10-5.98300498e-43j,\n",
      "       1.24822479e-10+6.99770292e-42j, ...,\n",
      "       4.18599222e-21-9.01240484e-56j, 4.19472898e-21+4.52252586e-55j,\n",
      "       4.20347487e-21-7.04123164e-56j]), '2h': array([0.00000000e+00+0.00000000e+00j, 3.59146596e-11+1.87119911e-25j,\n",
      "       4.96649205e-11+2.59651506e-25j, ...,\n",
      "       3.08710676e-23+1.60612043e-42j, 3.09427741e-23+1.60820563e-42j,\n",
      "       3.10145628e-23+1.61029033e-42j])}, 'prim_bispec': {'1h': array([0.00000000e+00+0.00000000e+00j, 6.15741517e-11+1.62394753e-25j,\n",
      "       3.12273637e-11+8.23585853e-26j, ...,\n",
      "       1.02041097e-22+2.33722150e-40j, 1.02036858e-22+2.33712441e-40j,\n",
      "       1.02032541e-22+2.33702552e-40j]), '2h': array([0.00000000e+00+0.00000000e+00j, 1.41393179e-09+3.72908271e-24j,\n",
      "       6.61508838e-10+1.74465359e-24j, ...,\n",
      "       2.85228020e-24+6.53306443e-42j, 2.85245946e-24+6.53347502e-42j,\n",
      "       2.85263569e-24+6.53387868e-42j])}, 'second_bispec': {'1h': array([-9.37337552e-16+2.06632885e-30j, -3.30694586e-17+2.33390070e-32j,\n",
      "       -3.66062963e-18+6.66498701e-34j, -7.46330246e-19+1.10649776e-34j,\n",
      "       -2.25530322e-19+1.51228242e-35j, -9.22615421e-20+2.72826426e-36j,\n",
      "       -4.52293777e-20+1.35011680e-36j, -2.45775742e-20+5.63355389e-37j,\n",
      "       -1.46493306e-20+1.95954688e-37j, -9.74190249e-21+1.10255298e-37j,\n",
      "       -6.84416404e-21+3.84081779e-38j, -4.90213008e-21+3.44540266e-38j,\n",
      "       -3.70910705e-21+5.02084403e-39j, -2.93719373e-21+8.81403494e-39j,\n",
      "       -2.32457642e-21+1.23778574e-38j, -1.92400816e-21+4.35403873e-41j,\n",
      "       -1.70369729e-21+7.74146525e-39j, -1.50451649e-21+3.07614481e-39j,\n",
      "       -1.35870286e-21+2.79336343e-39j, -1.28722247e-21-1.49580401e-39j,\n",
      "       -1.20261511e-21-2.40373331e-39j, -1.18608086e-21-1.06223376e-39j,\n",
      "       -1.31264774e-21-1.17406183e-39j, -1.44753470e-21-1.58670610e-39j,\n",
      "       -1.54496469e-21-1.60619048e-39j, -1.64100286e-21+3.15501147e-40j,\n",
      "       -1.59007744e-21-3.85433534e-39j, -1.55814099e-21-3.36794350e-39j,\n",
      "       -1.54783227e-21-1.00304530e-39j]), '2h': array([-2.06157921e-16+4.54468144e-31j, -7.26416676e-18+5.12673766e-33j,\n",
      "       -8.06539556e-19+1.46848390e-34j, -1.65436208e-19+2.45273182e-35j,\n",
      "       -5.00287196e-20+3.35465106e-36j, -2.04465662e-20+6.04625010e-37j,\n",
      "       -1.00346682e-20+2.99539257e-37j, -5.43972349e-21+1.24686737e-37j,\n",
      "       -3.20752065e-21+4.29049439e-38j, -2.12114346e-21+2.40063278e-38j,\n",
      "       -1.47661529e-21+8.28649084e-39j, -1.03902996e-21+7.30269606e-39j,\n",
      "       -7.79210967e-22+1.05478129e-39j, -6.09309681e-22+1.82843806e-39j,\n",
      "       -4.72125080e-22+2.51396206e-39j, -3.83880051e-22+8.68722205e-42j,\n",
      "       -3.33966161e-22+1.51751573e-39j, -2.87423530e-22+5.87668136e-40j,\n",
      "       -2.52800521e-22+5.19733748e-40j, -2.34500487e-22-2.72498948e-40j,\n",
      "       -2.12795768e-22-4.25326667e-40j, -2.02908702e-22-1.81721567e-40j,\n",
      "       -2.18231833e-22-1.95191488e-40j, -2.33099372e-22-2.55510416e-40j,\n",
      "       -2.40187598e-22-2.49706053e-40j, -2.47853216e-22+4.76525519e-41j,\n",
      "       -2.33634600e-22-5.66328453e-40j, -2.22674169e-22-4.81313326e-40j,\n",
      "       -2.15817505e-22-1.39856713e-40j])}, 'cross_w_gals': {'1h': {}, '2h': {}}}, 'cib': {'trispec': {'1h': {}, '2h': {}}, 'prim_bispec': {'1h': {}, '2h': {}}, 'second_bispec': {'1h': {}, '2h': {}}, 'cross_w_gals': {'1h': {}, '2h': {}}}, 'mixed': {'trispec': {'1h': {}, '2h': {}}, 'prim_bispec': {'1h': {}, '2h': {}}, 'second_bispec': {'1h': {}, '2h': {}}, 'cross_w_gals': {'1h': {}, '2h': {}}}}\n"
     ]
    }
   ],
   "source": [
    "dict_of_biases = qest.load_dict_of_biases()"
   ]
  },
  {
   "cell_type": "markdown",
   "metadata": {},
   "source": [
    "# Calculate biases to cross-correlations with galaxies"
   ]
  },
  {
   "cell_type": "code",
   "execution_count": 11,
   "metadata": {
    "ExecuteTime": {
     "end_time": "2024-02-13T23:53:00.424267Z",
     "start_time": "2024-02-13T23:53:00.384415Z"
    }
   },
   "outputs": [],
   "source": [
    "survey_name = \"DESI LRG\"\n",
    "\n",
    "# Add the HOD for the galaxy sample that we will be cross-correlating with CMB lensing\n",
    "z_mean_gal, surface_ngal_of_z_gal = tls.get_DESI_surface_ngal_of_z('lrg')\n",
    "\n",
    "# Assume a sample that's 100% complete above a stellar mass threshold of 10^11.5 Msun\n",
    "hm_calc.hcos.add_hod(name=survey_name, mthresh=10**11.5+hm_calc.hcos.zs*0.) "
   ]
  },
  {
   "cell_type": "code",
   "execution_count": 12,
   "metadata": {
    "ExecuteTime": {
     "end_time": "2024-02-13T23:53:24.754096Z",
     "start_time": "2024-02-13T23:53:06.674639Z"
    }
   },
   "outputs": [
    {
     "name": "stdout",
     "output_type": "stream",
     "text": [
      "Now in parallel loop 0\n",
      "Now in parallel loop 1\n",
      "Now in parallel loop 2\n",
      "Now in parallel loop 3\n",
      "Now in parallel loop 4\n",
      "Now in parallel loop 5\n",
      "Now in parallel loop 6\n",
      "Now in parallel loop 7\n",
      "Now in parallel loop 8\n",
      "Now in parallel loop 9\n",
      "Now in parallel loop 10\n",
      "Now in parallel loop 11\n",
      "Now in parallel loop 12\n",
      "Now in parallel loop 13\n",
      "Now in parallel loop 14\n",
      "Now in parallel loop 15\n",
      "Now in parallel loop 16\n",
      "Now in parallel loop 17\n",
      "Now in parallel loop 18\n",
      "Now in parallel loop 19\n",
      "Now in parallel loop 20\n",
      "Now in parallel loop 21\n",
      "Now in parallel loop 22\n",
      "Now in parallel loop 23\n",
      "Now in parallel loop 24\n",
      "Now in parallel loop 25\n",
      "Now in parallel loop 26\n",
      "Now in parallel loop 27\n",
      "Now in parallel loop 28\n",
      "Now in parallel loop 29\n",
      "Now in parallel loop 30\n",
      "Now in parallel loop 31\n",
      "Now in parallel loop 32\n",
      "Now in parallel loop 33\n",
      "Now in parallel loop 34\n",
      "Now in parallel loop 35\n",
      "Now in parallel loop 36\n",
      "Now in parallel loop 37\n",
      "Now in parallel loop 38\n",
      "Now in parallel loop 39\n"
     ]
    }
   ],
   "source": [
    "which_bias = 'tsz' #''tsz' or 'cib' or 'mixed'\n",
    "\n",
    "if which_bias=='tsz':\n",
    "    hm_calc.get_tsz_cross_biases(experiment, z_mean_gal, surface_ngal_of_z_gal, survey_name=survey_name)\n",
    "elif which_bias=='cib':\n",
    "    hm_calc.get_cib_cross_biases(experiment, z_mean_gal, surface_ngal_of_z_gal, survey_name=survey_name)\n",
    "elif which_bias=='mixed':\n",
    "    hm_calc.get_mixed_cross_biases(experiment, z_mean_gal, surface_ngal_of_z_gal, survey_name=survey_name)\n",
    "\n",
    "# Split into negative and positive parts for plotting convenience\n",
    "cross_w_gals_1h_pos, cross_w_gals_1h_neg = tls.split_positive_negative(experiment.biases[which_bias]['cross_w_gals']['1h'])\n",
    "cross_w_gals_2h_pos, cross_w_gals_2h_neg = tls.split_positive_negative(experiment.biases[which_bias]['cross_w_gals']['2h'])\n",
    "\n",
    "# Plot the signal clkg\n",
    "pgm_1h = hm_calc.hcos.get_power_1halo(\"nfw\", survey_name)\n",
    "pgm_2h = hm_calc.hcos.get_power_2halo(\"nfw\", survey_name)\n",
    "Pgm = pgm_1h + pgm_2h\n",
    "ells = np.linspace(2, 3000, 300)\n",
    "Cls = hm_calc.hcos.C_kg(ells, hm_calc.hcos.zs, hm_calc.hcos.ks, Pgm, gzs=z_mean_gal, gdndz=surface_ngal_of_z_gal, lzs=1100.)"
   ]
  },
  {
   "cell_type": "code",
   "execution_count": 13,
   "outputs": [
    {
     "data": {
      "text/plain": "Text(0.5, 1.0, 'Bias from tsz')"
     },
     "execution_count": 13,
     "metadata": {},
     "output_type": "execute_result"
    },
    {
     "data": {
      "text/plain": "<Figure size 500x500 with 1 Axes>",
      "image/png": "[encoded data removed]"
     },
     "metadata": {},
     "output_type": "display_data"
    }
   ],
   "source": [
    "plt.figure(figsize=(5, 5))\n",
    "scaling = 0.5 * experiment.biases['ells']*(experiment.biases['ells']+1)\n",
    "\n",
    "plt.plot(ells, 0.05 * Cls, 'k', label=r'signal $\\times 0.05$')\n",
    "\n",
    "plt.plot(experiment.biases['ells'], scaling * cross_w_gals_1h_pos, color='b', label='1-halo bias')\n",
    "plt.plot(experiment.biases['ells'], scaling * cross_w_gals_1h_neg, color='b', ls='--')\n",
    "\n",
    "plt.plot(experiment.biases['ells'], scaling * cross_w_gals_2h_pos, color='r', label='2-halo bias')\n",
    "plt.plot(experiment.biases['ells'], scaling * cross_w_gals_2h_neg, color='r', ls='--')\n",
    "\n",
    "plt.yscale('log')\n",
    "plt.xlim([2, 3000])\n",
    "ax = plt.gca()\n",
    "ax.tick_params(axis='both', which='major', labelsize=8)\n",
    "ax.tick_params(axis='both', which='minor', labelsize=8)\n",
    "plt.ylabel(r'$C_{L}^{\\delta_{g}\\kappa}$')\n",
    "plt.xlabel(r'$L$')\n",
    "plt.legend()\n",
    "plt.title('Bias from {}'.format(which_bias))"
   ],
   "metadata": {
    "collapsed": false,
    "ExecuteTime": {
     "end_time": "2024-02-13T23:53:27.464492Z",
     "start_time": "2024-02-13T23:53:27.056873Z"
    }
   }
  },
  {
   "cell_type": "markdown",
   "metadata": {
    "collapsed": true
   },
   "source": [
    "# Calculate the biases to B-mode delensing"
   ]
  },
  {
   "cell_type": "markdown",
   "metadata": {},
   "source": [
    "Take delensing of SO using single-frequency LAT lensing reconstructions (and E-modes) as an example"
   ]
  },
  {
   "cell_type": "code",
   "execution_count": 14,
   "metadata": {
    "ExecuteTime": {
     "end_time": "2024-02-13T23:56:19.406701Z",
     "start_time": "2024-02-13T23:56:14.213901Z"
    }
   },
   "outputs": [],
   "source": [
    "SO_properties = {'nlev_t': np.array([6.3]),\n",
    "                 'beam_size': np.array([1.4]),\n",
    "                 'freq_GHz': np.array([143.]), 'nx_secbispec':128}\n",
    "\n",
    "# Foreground cleaning? Only relevant if many frequencies are provided\n",
    "MV_ILC_bool = False \n",
    "deproject_CIB = False\n",
    "deproject_tSZ = False\n",
    "fg_cleaning_dict = {'MV_ILC_bool':MV_ILC_bool, 'deproject_CIB':deproject_CIB, 'deproject_tSZ':deproject_tSZ}\n",
    "\n",
    "# Initialise experiments with various different mass cuts\n",
    "SO_5e15 = qest.experiment(lmax = 3500, massCut_Mvir=5e15, **SO_properties, \n",
    "                          **fg_cleaning_dict, fg=False, atm_fg=False)"
   ]
  },
  {
   "cell_type": "code",
   "execution_count": 17,
   "metadata": {
    "ExecuteTime": {
     "end_time": "2024-02-13T23:59:44.171822Z",
     "start_time": "2024-02-13T23:59:44.136585Z"
    }
   },
   "outputs": [],
   "source": [
    "get_cib=True\n",
    "get_tsz=True\n",
    "get_mixed=True\n",
    "get_secondary_bispec_bias=False"
   ]
  },
  {
   "cell_type": "code",
   "execution_count": 18,
   "outputs": [
    {
     "name": "stdout",
     "output_type": "stream",
     "text": [
      "Now in parallel loop 0\n",
      "Now in parallel loop 1\n",
      "Now in parallel loop 2\n",
      "Now in parallel loop 3\n",
      "Now in parallel loop 4\n",
      "Now in parallel loop 5\n",
      "Now in parallel loop 6\n",
      "Now in parallel loop 7\n",
      "Now in parallel loop 8\n",
      "Now in parallel loop 9\n",
      "Now in parallel loop 10\n",
      "Now in parallel loop 11\n",
      "Now in parallel loop 12\n",
      "Now in parallel loop 13\n",
      "Now in parallel loop 14\n",
      "Now in parallel loop 15\n",
      "Now in parallel loop 16\n",
      "Now in parallel loop 17\n",
      "Now in parallel loop 18\n",
      "Now in parallel loop 19\n",
      "Now in parallel loop 20\n",
      "Now in parallel loop 21\n",
      "Now in parallel loop 22\n",
      "Now in parallel loop 23\n",
      "Now in parallel loop 24\n",
      "Now in parallel loop 25\n",
      "Now in parallel loop 26\n",
      "Now in parallel loop 27\n",
      "Now in parallel loop 28\n",
      "Now in parallel loop 29\n",
      "Now in parallel loop 30\n",
      "Now in parallel loop 31\n",
      "Now in parallel loop 32\n",
      "Now in parallel loop 33\n",
      "Now in parallel loop 34\n",
      "Now in parallel loop 35\n",
      "Now in parallel loop 36\n",
      "Now in parallel loop 37\n",
      "Now in parallel loop 38\n",
      "Now in parallel loop 39\n",
      "Now in parallel loop 0\n",
      "Now in parallel loop 1\n",
      "Now in parallel loop 2\n",
      "Now in parallel loop 3\n",
      "Now in parallel loop 4\n",
      "Now in parallel loop 5\n",
      "Now in parallel loop 6\n",
      "Now in parallel loop 7\n",
      "Now in parallel loop 8\n",
      "Now in parallel loop 9\n",
      "Now in parallel loop 10\n",
      "Now in parallel loop 11\n",
      "Now in parallel loop 12\n",
      "Now in parallel loop 13\n",
      "Now in parallel loop 14\n",
      "Now in parallel loop 15\n",
      "Now in parallel loop 16\n",
      "Now in parallel loop 17\n",
      "Now in parallel loop 18\n",
      "Now in parallel loop 19\n",
      "Now in parallel loop 20\n",
      "Now in parallel loop 21\n",
      "Now in parallel loop 22\n",
      "Now in parallel loop 23\n",
      "Now in parallel loop 24\n",
      "Now in parallel loop 25\n",
      "Now in parallel loop 26\n",
      "Now in parallel loop 27\n",
      "Now in parallel loop 28\n",
      "Now in parallel loop 29\n",
      "Now in parallel loop 30\n",
      "Now in parallel loop 31\n",
      "Now in parallel loop 32\n",
      "Now in parallel loop 33\n",
      "Now in parallel loop 34\n",
      "Now in parallel loop 35\n",
      "Now in parallel loop 36\n",
      "Now in parallel loop 37\n",
      "Now in parallel loop 38\n",
      "Now in parallel loop 39\n",
      "Now in parallel loop 0\n",
      "Now in parallel loop 1\n",
      "Now in parallel loop 2\n",
      "Now in parallel loop 3\n",
      "Now in parallel loop 4\n",
      "Now in parallel loop 5\n",
      "Now in parallel loop 6\n",
      "Now in parallel loop 7\n",
      "Now in parallel loop 8\n",
      "Now in parallel loop 9\n",
      "Now in parallel loop 10\n",
      "Now in parallel loop 11\n",
      "Now in parallel loop 12\n",
      "Now in parallel loop 13\n",
      "Now in parallel loop 14\n",
      "Now in parallel loop 15\n",
      "Now in parallel loop 16\n",
      "Now in parallel loop 17\n",
      "Now in parallel loop 18\n",
      "Now in parallel loop 19\n",
      "Now in parallel loop 20\n",
      "Now in parallel loop 21\n",
      "Now in parallel loop 22\n",
      "Now in parallel loop 23\n",
      "Now in parallel loop 24\n",
      "Now in parallel loop 25\n",
      "Now in parallel loop 26\n",
      "Now in parallel loop 27\n",
      "Now in parallel loop 28\n",
      "Now in parallel loop 29\n",
      "Now in parallel loop 30\n",
      "Now in parallel loop 31\n",
      "Now in parallel loop 32\n",
      "Now in parallel loop 33\n",
      "Now in parallel loop 34\n",
      "Now in parallel loop 35\n",
      "Now in parallel loop 36\n",
      "Now in parallel loop 37\n",
      "Now in parallel loop 38\n",
      "Now in parallel loop 39\n"
     ]
    }
   ],
   "source": [
    "ells, cl_Btemp_x_Blens_bias, cl_Btemp_x_Btemp_bias, cl_Bdel_x_Bdel_bias = hm_calc.get_bias_to_delensed_clbb(SO_5e15, get_cib=get_cib, get_tsz=get_tsz, get_mixed=get_mixed, get_secondary_bispec_bias=get_secondary_bispec_bias)"
   ],
   "metadata": {
    "collapsed": false,
    "ExecuteTime": {
     "end_time": "2024-02-14T00:01:58.805079Z",
     "start_time": "2024-02-13T23:59:44.716684Z"
    }
   }
  },
  {
   "cell_type": "code",
   "execution_count": 20,
   "outputs": [
    {
     "data": {
      "text/plain": "<matplotlib.lines.Line2D at 0x41c146bd0>"
     },
     "execution_count": 20,
     "metadata": {},
     "output_type": "execute_result"
    },
    {
     "data": {
      "text/plain": "<Figure size 640x480 with 1 Axes>",
      "image/png": "[encoded data removed]"
     },
     "metadata": {},
     "output_type": "display_data"
    }
   ],
   "source": [
    "plt.plot(ells, cl_Btemp_x_Blens_bias, label=r'Btemp_x_Blens')\n",
    "plt.plot(ells, cl_Btemp_x_Btemp_bias, label=r'Btemp_x_Btemp')\n",
    "plt.plot(ells, cl_Bdel_x_Bdel_bias, label=r'Bdel_x_Bdel')\n",
    "plt.ylabel(r'$C_l^{BB}$ [$\\mu$K$^2$]')\n",
    "plt.xlabel(r'$l$')\n",
    "plt.legend()\n",
    "plt.axhline(0, color='k', lw=0.5)\n",
    "#plt.ylim([-1e-6,6e-6])\n",
    "#plt.ylim([-1e-7,2.1e-7])"
   ],
   "metadata": {
    "collapsed": false,
    "ExecuteTime": {
     "end_time": "2024-02-14T00:03:29.492803Z",
     "start_time": "2024-02-14T00:03:27.994051Z"
    }
   }
  },
  {
   "cell_type": "code",
   "execution_count": 24,
   "metadata": {
    "ExecuteTime": {
     "end_time": "2023-10-24T00:09:39.361944Z",
     "start_time": "2023-10-24T00:05:33.290964Z"
    }
   },
   "outputs": [
    {
     "name": "stdout",
     "output_type": "stream",
     "text": [
      "Now in parallel loop 0\n",
      "Now in parallel loop 1\n",
      "Now in parallel loop 2\n",
      "Now in parallel loop 3\n",
      "Now in parallel loop 4\n",
      "Now in parallel loop 5\n",
      "Now in parallel loop 6\n",
      "Now in parallel loop 7\n",
      "Now in parallel loop 8\n",
      "Now in parallel loop 9\n",
      "Now in parallel loop 10\n",
      "Now in parallel loop 11\n",
      "Now in parallel loop 12\n",
      "Now in parallel loop 13\n",
      "Now in parallel loop 14\n",
      "Now in parallel loop 15\n",
      "Now in parallel loop 16\n",
      "Now in parallel loop 17\n",
      "Now in parallel loop 18\n",
      "Now in parallel loop 19\n",
      "Now in parallel loop 0\n",
      "Now in parallel loop 1\n",
      "Now in parallel loop 2\n",
      "Now in parallel loop 3\n",
      "Now in parallel loop 4\n",
      "Now in parallel loop 5\n",
      "Now in parallel loop 6\n",
      "Now in parallel loop 7\n",
      "Now in parallel loop 8\n",
      "Now in parallel loop 9\n",
      "Now in parallel loop 10\n",
      "Now in parallel loop 11\n",
      "Now in parallel loop 12\n",
      "Now in parallel loop 13\n",
      "Now in parallel loop 14\n",
      "Now in parallel loop 15\n",
      "Now in parallel loop 16\n",
      "Now in parallel loop 17\n",
      "Now in parallel loop 18\n",
      "Now in parallel loop 19\n",
      "Now in parallel loop 0\n",
      "Now in parallel loop 1\n",
      "Now in parallel loop 2\n",
      "Now in parallel loop 3\n",
      "Now in parallel loop 4\n",
      "Now in parallel loop 5\n",
      "Now in parallel loop 6\n",
      "Now in parallel loop 7\n",
      "Now in parallel loop 8\n",
      "Now in parallel loop 9\n",
      "Now in parallel loop 10\n",
      "Now in parallel loop 11\n",
      "Now in parallel loop 12\n",
      "Now in parallel loop 13\n",
      "Now in parallel loop 14\n",
      "Now in parallel loop 15\n",
      "Now in parallel loop 16\n",
      "Now in parallel loop 17\n",
      "Now in parallel loop 18\n",
      "Now in parallel loop 19\n",
      "Now in parallel loop 0\n",
      "Now in parallel loop 1\n",
      "Now in parallel loop 2\n",
      "Now in parallel loop 3\n",
      "Now in parallel loop 4\n",
      "Now in parallel loop 5\n",
      "Now in parallel loop 6\n",
      "Now in parallel loop 7\n",
      "Now in parallel loop 8\n",
      "Now in parallel loop 9\n",
      "Now in parallel loop 10\n",
      "Now in parallel loop 11\n",
      "Now in parallel loop 12\n",
      "Now in parallel loop 13\n",
      "Now in parallel loop 14\n",
      "Now in parallel loop 15\n",
      "Now in parallel loop 16\n",
      "Now in parallel loop 17\n",
      "Now in parallel loop 18\n",
      "Now in parallel loop 19\n",
      "Now in parallel loop 0\n",
      "Now in parallel loop 1\n",
      "Now in parallel loop 2\n",
      "Now in parallel loop 3\n",
      "Now in parallel loop 4\n",
      "Now in parallel loop 5\n",
      "Now in parallel loop 6\n",
      "Now in parallel loop 7\n",
      "Now in parallel loop 8\n",
      "Now in parallel loop 9\n",
      "Now in parallel loop 10\n",
      "Now in parallel loop 11\n",
      "Now in parallel loop 12\n",
      "Now in parallel loop 13\n",
      "Now in parallel loop 14\n",
      "Now in parallel loop 15\n",
      "Now in parallel loop 16\n",
      "Now in parallel loop 17\n",
      "Now in parallel loop 18\n",
      "Now in parallel loop 19\n",
      "Now in parallel loop 0\n",
      "Now in parallel loop 1\n",
      "Now in parallel loop 2\n",
      "Now in parallel loop 3\n",
      "Now in parallel loop 4\n",
      "Now in parallel loop 5\n",
      "Now in parallel loop 6\n",
      "Now in parallel loop 7\n",
      "Now in parallel loop 8\n",
      "Now in parallel loop 9\n",
      "Now in parallel loop 10\n",
      "Now in parallel loop 11\n",
      "Now in parallel loop 12\n",
      "Now in parallel loop 13\n",
      "Now in parallel loop 14\n",
      "Now in parallel loop 15\n",
      "Now in parallel loop 16\n",
      "Now in parallel loop 17\n",
      "Now in parallel loop 18\n",
      "Now in parallel loop 19\n",
      "Now in parallel loop 0\n",
      "Now in parallel loop 1\n",
      "Now in parallel loop 2\n",
      "Now in parallel loop 3\n",
      "Now in parallel loop 4\n",
      "Now in parallel loop 5\n",
      "Now in parallel loop 6\n",
      "Now in parallel loop 7\n",
      "Now in parallel loop 8\n",
      "Now in parallel loop 9\n",
      "Now in parallel loop 10\n",
      "Now in parallel loop 11\n",
      "Now in parallel loop 12\n",
      "Now in parallel loop 13\n",
      "Now in parallel loop 14\n",
      "Now in parallel loop 15\n",
      "Now in parallel loop 16\n",
      "Now in parallel loop 17\n",
      "Now in parallel loop 18\n",
      "Now in parallel loop 19\n",
      "Now in parallel loop 0\n",
      "Now in parallel loop 1\n",
      "Now in parallel loop 2\n",
      "Now in parallel loop 3\n",
      "Now in parallel loop 4\n",
      "Now in parallel loop 5\n",
      "Now in parallel loop 6\n",
      "Now in parallel loop 7\n",
      "Now in parallel loop 8\n",
      "Now in parallel loop 9\n",
      "Now in parallel loop 10\n",
      "Now in parallel loop 11\n",
      "Now in parallel loop 12\n",
      "Now in parallel loop 13\n",
      "Now in parallel loop 14\n",
      "Now in parallel loop 15\n",
      "Now in parallel loop 16\n",
      "Now in parallel loop 17\n",
      "Now in parallel loop 18\n",
      "Now in parallel loop 19\n",
      "Now in parallel loop 0\n",
      "Now in parallel loop 1\n",
      "Now in parallel loop 2\n",
      "Now in parallel loop 3\n",
      "Now in parallel loop 4\n",
      "Now in parallel loop 5\n",
      "Now in parallel loop 6\n",
      "Now in parallel loop 7\n",
      "Now in parallel loop 8\n",
      "Now in parallel loop 9\n",
      "Now in parallel loop 10\n",
      "Now in parallel loop 11\n",
      "Now in parallel loop 12\n",
      "Now in parallel loop 13\n",
      "Now in parallel loop 14\n",
      "Now in parallel loop 15\n",
      "Now in parallel loop 16\n",
      "Now in parallel loop 17\n",
      "Now in parallel loop 18\n",
      "Now in parallel loop 19\n",
      "Now in parallel loop 0\n",
      "Now in parallel loop 1\n",
      "Now in parallel loop 2\n",
      "Now in parallel loop 3\n",
      "Now in parallel loop 4\n",
      "Now in parallel loop 5\n",
      "Now in parallel loop 6\n",
      "Now in parallel loop 7\n",
      "Now in parallel loop 8\n",
      "Now in parallel loop 9\n",
      "Now in parallel loop 10\n",
      "Now in parallel loop 11\n",
      "Now in parallel loop 12\n",
      "Now in parallel loop 13\n",
      "Now in parallel loop 14\n",
      "Now in parallel loop 15\n",
      "Now in parallel loop 16\n",
      "Now in parallel loop 17\n",
      "Now in parallel loop 18\n",
      "Now in parallel loop 19\n",
      "Now in parallel loop 0\n",
      "Now in parallel loop 1\n",
      "Now in parallel loop 2\n",
      "Now in parallel loop 3\n",
      "Now in parallel loop 4\n",
      "Now in parallel loop 5\n",
      "Now in parallel loop 6\n",
      "Now in parallel loop 7\n",
      "Now in parallel loop 8\n",
      "Now in parallel loop 9\n",
      "Now in parallel loop 10\n",
      "Now in parallel loop 11\n",
      "Now in parallel loop 12\n",
      "Now in parallel loop 13\n",
      "Now in parallel loop 14\n",
      "Now in parallel loop 15\n",
      "Now in parallel loop 16\n",
      "Now in parallel loop 17\n",
      "Now in parallel loop 18\n",
      "Now in parallel loop 19\n",
      "Now in parallel loop 0\n",
      "Now in parallel loop 1\n",
      "Now in parallel loop 2\n",
      "Now in parallel loop 3\n",
      "Now in parallel loop 4\n",
      "Now in parallel loop 5\n",
      "Now in parallel loop 6\n",
      "Now in parallel loop 7\n",
      "Now in parallel loop 8\n",
      "Now in parallel loop 9\n",
      "Now in parallel loop 10\n",
      "Now in parallel loop 11\n",
      "Now in parallel loop 12\n",
      "Now in parallel loop 13\n",
      "Now in parallel loop 14\n",
      "Now in parallel loop 15\n",
      "Now in parallel loop 16\n",
      "Now in parallel loop 17\n",
      "Now in parallel loop 18\n",
      "Now in parallel loop 19\n",
      "Now in parallel loop 0\n",
      "Now in parallel loop 1\n",
      "Now in parallel loop 2\n",
      "Now in parallel loop 3\n",
      "Now in parallel loop 4\n",
      "Now in parallel loop 5\n",
      "Now in parallel loop 6\n",
      "Now in parallel loop 7\n",
      "Now in parallel loop 8\n",
      "Now in parallel loop 9\n",
      "Now in parallel loop 10\n",
      "Now in parallel loop 11\n",
      "Now in parallel loop 12\n",
      "Now in parallel loop 13\n",
      "Now in parallel loop 14\n",
      "Now in parallel loop 15\n",
      "Now in parallel loop 16\n",
      "Now in parallel loop 17\n",
      "Now in parallel loop 18\n",
      "Now in parallel loop 19\n",
      "Now in parallel loop 0\n",
      "Now in parallel loop 1\n",
      "Now in parallel loop 2\n",
      "Now in parallel loop 3\n",
      "Now in parallel loop 4\n",
      "Now in parallel loop 5\n",
      "Now in parallel loop 6\n",
      "Now in parallel loop 7\n",
      "Now in parallel loop 8\n",
      "Now in parallel loop 9\n",
      "Now in parallel loop 10\n",
      "Now in parallel loop 11\n",
      "Now in parallel loop 12\n",
      "Now in parallel loop 13\n",
      "Now in parallel loop 14\n",
      "Now in parallel loop 15\n",
      "Now in parallel loop 16\n",
      "Now in parallel loop 17\n",
      "Now in parallel loop 18\n",
      "Now in parallel loop 19\n",
      "Now in parallel loop 0\n",
      "Now in parallel loop 1\n",
      "Now in parallel loop 2\n",
      "Now in parallel loop 3\n",
      "Now in parallel loop 4\n",
      "Now in parallel loop 5\n",
      "Now in parallel loop 6\n",
      "Now in parallel loop 7\n",
      "Now in parallel loop 8\n",
      "Now in parallel loop 9\n",
      "Now in parallel loop 10\n",
      "Now in parallel loop 11\n",
      "Now in parallel loop 12\n",
      "Now in parallel loop 13\n",
      "Now in parallel loop 14\n",
      "Now in parallel loop 15\n",
      "Now in parallel loop 16\n",
      "Now in parallel loop 17\n",
      "Now in parallel loop 18\n",
      "Now in parallel loop 19\n"
     ]
    },
    {
     "data": {
      "text/plain": "(-1e-06, 6e-06)"
     },
     "execution_count": 24,
     "metadata": {},
     "output_type": "execute_result"
    },
    {
     "data": {
      "text/plain": "<Figure size 640x480 with 1 Axes>",
      "image/png": "[encoded data removed]"
     },
     "metadata": {},
     "output_type": "display_data"
    }
   ],
   "source": [
    "for lmax in [2500,2750,3000,3250,3500]:\n",
    "    # Initialise experiments with various different mass cuts\n",
    "    SO_5e15 = qest.experiment(lmax = lmax, massCut_Mvir=5e15, **SO_properties, \n",
    "                              **fg_cleaning_dict, fg=False, atm_fg=False)\n",
    "    ells, cl_Btemp_x_Blens_bias, cl_Btemp_x_Btemp_bias, cl_Bdel_x_Bdel_bias = hm_calc.get_bias_to_delensed_clbb(SO_5e15, get_cib=get_cib, get_tsz=get_tsz, get_mixed=get_mixed, get_secondary_bispec_bias=get_secondary_bispec_bias)\n",
    "    plt.plot(ells, cl_Bdel_x_Bdel_bias, label=lmax)\n",
    "\n",
    "plt.ylabel(r'$C_l^{BB}$ [$\\mu$K$^2$]')\n",
    "plt.xlabel(r'$l$')\n",
    "plt.legend()\n",
    "plt.axhline(0, color='k', lw=0.5)\n",
    "plt.ylim([-1e-6,6e-6])"
   ]
  },
  {
   "cell_type": "code",
   "execution_count": null,
   "metadata": {
    "collapsed": false
   },
   "outputs": [],
   "source": []
  }
 ],
 "metadata": {
  "kernelspec": {
   "name": "for_cosmoblender",
   "language": "python",
   "display_name": "for_cosmoblender"
  },
  "language_info": {
   "codemirror_mode": {
    "name": "ipython",
    "version": 3
   },
   "file_extension": ".py",
   "mimetype": "text/x-python",
   "name": "python",
   "nbconvert_exporter": "python",
   "pygments_lexer": "ipython3",
   "version": "3.11.5"
  },
  "toc": {
   "base_numbering": 1,
   "nav_menu": {},
   "number_sections": true,
   "sideBar": true,
   "skip_h1_title": false,
   "title_cell": "Table of Contents",
   "title_sidebar": "Contents",
   "toc_cell": false,
   "toc_position": {
    "height": "calc(100% - 180px)",
    "left": "10px",
    "top": "150px",
    "width": "165px"
   },
   "toc_section_display": true,
   "toc_window_display": true
  }
 },
 "nbformat": 4,
 "nbformat_minor": 4
}
