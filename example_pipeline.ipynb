{
 "cells": [
  {
   "cell_type": "code",
   "execution_count": 1,
   "metadata": {
    "ExecuteTime": {
     "end_time": "2022-09-24T01:14:57.914475Z",
     "start_time": "2022-09-24T01:14:49.550470Z"
    }
   },
   "outputs": [
    {
     "data": {
      "text/html": [
       "<style>.container { width:85% !important; }</style>"
      ],
      "text/plain": [
       "<IPython.core.display.HTML object>"
      ]
     },
     "metadata": {},
     "output_type": "display_data"
    },
    {
     "name": "stderr",
     "output_type": "stream",
     "text": [
      "IMPORT ERROR: /Users/antonbaleatolizancos/Software/Quicklens-with-fixes/quicklens/mpi.py (No module named 'pypar'). Could not load pbs or pypar. MPI will not be used.\n",
      "IMPORT ERROR: /Users/antonbaleatolizancos/Software/Quicklens-with-fixes/quicklens/shts/__init__.py (No module named 'fsht'). Try running 'python setup.py install' or 'python setup.py build_ext --inplace' from the quicklens directory.\n",
      "\n",
      "WARNING: version mismatch between CFITSIO header (v4.000999999999999) and linked library (v4.01).\n",
      "\n",
      "\n",
      "WARNING: version mismatch between CFITSIO header (v4.000999999999999) and linked library (v4.01).\n",
      "\n",
      "\n",
      "WARNING: version mismatch between CFITSIO header (v4.000999999999999) and linked library (v4.01).\n",
      "\n"
     ]
    }
   ],
   "source": [
    "%load_ext autoreload\n",
    "%autoreload 2\n",
    "%matplotlib inline\n",
    "\n",
    "from IPython.core.display import display, HTML\n",
    "display(HTML(\"<style>.container { width:85% !important; }</style>\"))\n",
    "\n",
    "import warnings\n",
    "warnings.filterwarnings('ignore')\n",
    "\n",
    "import sys\n",
    "sys.path.insert(0,'/Users/antonbaleatolizancos/Projects/lensing_rec_biases')\n",
    "#sys.path.insert(1,'/Users/antonbaleatolizancos/anaconda/envs/lensing_biases_python3_CIBbranch/lib/python3.8/site-packages/')\n",
    "\n",
    "import numpy as np\n",
    "import matplotlib.pyplot as plt\n",
    "from lensing_rec_biases_code import tools as tls\n",
    "from lensing_rec_biases_code import qest\n",
    "from lensing_rec_biases_code import biases\n"
   ]
  },
  {
   "cell_type": "markdown",
   "metadata": {},
   "source": [
    "Initialise experiment object"
   ]
  },
  {
   "cell_type": "code",
   "execution_count": 2,
   "metadata": {
    "ExecuteTime": {
     "end_time": "2022-07-04T13:39:36.949225Z",
     "start_time": "2022-07-04T13:37:33.148837Z"
    },
    "scrolled": true
   },
   "outputs": [],
   "source": [
    "nlev_t = 18. # uK arcmin\n",
    "beam_size = 1. #arcmin\n",
    "lmax = 3000 # Maximum ell for the reconstruction\n",
    "freq_GHz = 143.#217. \n",
    "\n",
    "# Initialise experiments with various different mass cuts\n",
    "SO_5e15 = qest.experiment(6., 1.4, lmax, massCut_Mvir=5e15, freq_GHz=freq_GHz)\n",
    "SPT_5e15 = qest.experiment(nlev_t, beam_size, lmax, massCut_Mvir=5e15, freq_GHz=freq_GHz)\n",
    "SPT_5e14 = qest.experiment(nlev_t, beam_size, lmax,  massCut_Mvir=5e14, freq_GHz=freq_GHz)\n",
    "SPT_1e14 = qest.experiment(nlev_t, beam_size, lmax,  massCut_Mvir=1e14, freq_GHz=freq_GHz)"
   ]
  },
  {
   "cell_type": "code",
   "execution_count": 8,
   "metadata": {
    "ExecuteTime": {
     "end_time": "2022-07-06T15:49:59.845695Z",
     "start_time": "2022-07-06T15:49:40.619716Z"
    }
   },
   "outputs": [],
   "source": [
    "SPT_5e15_for2ndary = qest.experiment(nlev_t, beam_size, lmax, massCut_Mvir=5e15, freq_GHz=freq_GHz)\n",
    "experiment_2ndarybispec = SPT_5e15_for2ndary"
   ]
  },
  {
   "cell_type": "markdown",
   "metadata": {},
   "source": [
    "One can later inspect the properties by doing"
   ]
  },
  {
   "cell_type": "code",
   "execution_count": 3,
   "metadata": {},
   "outputs": [
    {
     "name": "stdout",
     "output_type": "stream",
     "text": [
      "Mass Cut: 5.00e+15  lmax: 3000  Beam FWHM: 1.00 Noise (uK arcmin): 18.00  Freq (GHz): 143.00\n",
      "Mass Cut: 5.00e+14  lmax: 3000  Beam FWHM: 1.00 Noise (uK arcmin): 18.00  Freq (GHz): 143.00\n",
      "Mass Cut: 1.00e+14  lmax: 3000  Beam FWHM: 1.00 Noise (uK arcmin): 18.00  Freq (GHz): 143.00\n"
     ]
    }
   ],
   "source": [
    "print(SPT_5e15)\n",
    "print(SPT_5e14)\n",
    "print(SPT_1e14)"
   ]
  },
  {
   "cell_type": "markdown",
   "metadata": {},
   "source": [
    "Initialise halo model calculator"
   ]
  },
  {
   "cell_type": "code",
   "execution_count": 3,
   "metadata": {
    "ExecuteTime": {
     "end_time": "2022-09-24T01:15:36.654358Z",
     "start_time": "2022-09-24T01:15:19.593114Z"
    }
   },
   "outputs": [],
   "source": [
    "# This should roughly match the cosmology in Nick's tSZ papers\n",
    "cosmoParams = {'As':2.4667392631170437e-09,'ns':.96,'omch2':(0.25-.043)*.7**2,'ombh2':0.044*.7**2,'H0':70.} #Note that for now there is still cosmology dpendence in the cls defined within the experiment class\n",
    "\n",
    "z_max = 3 #3\n",
    "nZs = 30 #50\n",
    "nMasses = 30 #30\n",
    "\n",
    "# Set CIB halo model\n",
    "cib_model='planck13'#'vierro'\n",
    "\n",
    "# Initialise a halo model object for the calculation, using mostly default parameters\n",
    "hm_calc = biases.hm_framework(cosmoParams=cosmoParams, nZs=nZs, nMasses=nMasses, cib_model=cib_model, z_max=z_max)"
   ]
  },
  {
   "cell_type": "code",
   "execution_count": 9,
   "metadata": {
    "ExecuteTime": {
     "end_time": "2022-07-06T15:50:14.375646Z",
     "start_time": "2022-07-06T15:50:04.668157Z"
    }
   },
   "outputs": [],
   "source": [
    "hm_calc_for2ndary = biases.hm_framework(cosmoParams=cosmoParams, nZs=3, nMasses=3, cib_model=cib_model, z_max=z_max)"
   ]
  },
  {
   "cell_type": "markdown",
   "metadata": {},
   "source": [
    "Again, we can print out its properties"
   ]
  },
  {
   "cell_type": "code",
   "execution_count": 10,
   "metadata": {},
   "outputs": [
    {
     "name": "stdout",
     "output_type": "stream",
     "text": [
      "M_min: 2.00e+13  M_max: 5.00e+16  n_Masses: 30\n",
      "  z_min: 0.07  z_max: 5.00  n_zs: 50\n",
      "  Mass function: sheth-torman  Mass definition: vir\n"
     ]
    }
   ],
   "source": [
    "print(hm_calc)"
   ]
  },
  {
   "cell_type": "markdown",
   "metadata": {},
   "source": [
    "# Calculate the biases"
   ]
  },
  {
   "cell_type": "markdown",
   "metadata": {},
   "source": [
    "Run the main function for each of the mass cuts, and for either the tsz or cib calculation, using the FFTlog approach"
   ]
  },
  {
   "cell_type": "code",
   "execution_count": null,
   "metadata": {},
   "outputs": [],
   "source": [
    "# Calculate secondary bispectrum bias? Note that this is a lot slower that the other implemented terms\n",
    "get_secondary_bispec_bias = False"
   ]
  },
  {
   "cell_type": "code",
   "execution_count": 4,
   "metadata": {
    "ExecuteTime": {
     "end_time": "2022-09-24T01:15:36.808833Z",
     "start_time": "2022-09-24T01:15:36.657705Z"
    }
   },
   "outputs": [
    {
     "ename": "AttributeError",
     "evalue": "'hm_framework' object has no attribute 'get_tsz_bias'",
     "output_type": "error",
     "traceback": [
      "\u001b[0;31m---------------------------------------------------------------------------\u001b[0m",
      "\u001b[0;31mAttributeError\u001b[0m                            Traceback (most recent call last)",
      "\u001b[0;32m/var/folders/l0/bsqsn6_s01b0hvjnf7bv_wdw0000gn/T/ipykernel_16176/3760466168.py\u001b[0m in \u001b[0;36m<module>\u001b[0;34m\u001b[0m\n\u001b[1;32m      2\u001b[0m \u001b[0mget_secondary_bispec_bias\u001b[0m \u001b[0;34m=\u001b[0m \u001b[0;32mFalse\u001b[0m\u001b[0;34m\u001b[0m\u001b[0;34m\u001b[0m\u001b[0m\n\u001b[1;32m      3\u001b[0m \u001b[0;34m\u001b[0m\u001b[0m\n\u001b[0;32m----> 4\u001b[0;31m \u001b[0mhm_calc\u001b[0m\u001b[0;34m.\u001b[0m\u001b[0mget_tsz_bias\u001b[0m\u001b[0;34m(\u001b[0m\u001b[0mSPT_5e15\u001b[0m\u001b[0;34m,\u001b[0m \u001b[0mget_secondary_bispec_bias\u001b[0m\u001b[0;34m=\u001b[0m\u001b[0mget_secondary_bispec_bias\u001b[0m\u001b[0;34m)\u001b[0m\u001b[0;34m\u001b[0m\u001b[0;34m\u001b[0m\u001b[0m\n\u001b[0m\u001b[1;32m      5\u001b[0m \u001b[0;31m#hm_calc.get_cib_bias(SPT_5e15, get_secondary_bispec_bias=get_secondary_bispec_bias)\u001b[0m\u001b[0;34m\u001b[0m\u001b[0;34m\u001b[0m\u001b[0;34m\u001b[0m\u001b[0m\n",
      "\u001b[0;31mAttributeError\u001b[0m: 'hm_framework' object has no attribute 'get_tsz_bias'"
     ]
    }
   ],
   "source": [
    "\n",
    "\n",
    "hm_calc.get_tsz_bias(SPT_5e15, get_secondary_bispec_bias=get_secondary_bispec_bias)\n",
    "#hm_calc.get_cib_bias(SPT_5e15, get_secondary_bispec_bias=get_secondary_bispec_bias)"
   ]
  },
  {
   "cell_type": "code",
   "execution_count": 10,
   "metadata": {
    "ExecuteTime": {
     "end_time": "2022-07-06T16:14:04.062521Z",
     "start_time": "2022-07-06T15:50:26.822328Z"
    }
   },
   "outputs": [],
   "source": [
    "get_secondary_bispec_bias = True\n",
    "\n",
    "\n",
    "hm_calc_for2ndary.get_tsz_bias(SPT_5e15_for2ndary, get_secondary_bispec_bias=get_secondary_bispec_bias)"
   ]
  },
  {
   "cell_type": "code",
   "execution_count": 6,
   "metadata": {
    "pycharm": {
     "name": "#%%\n"
    }
   },
   "outputs": [],
   "source": [
    "hm_calc.get_tsz_bias(SPT_5e15, get_secondary_bispec_bias=get_secondary_bispec_bias)\n",
    "hm_calc.get_tsz_bias(SPT_5e14, get_secondary_bispec_bias=get_secondary_bispec_bias)\n",
    "hm_calc.get_tsz_bias(SPT_1e14, get_secondary_bispec_bias=get_secondary_bispec_bias)\n",
    "\n",
    "hm_calc.get_cib_bias(SPT_5e15, get_secondary_bispec_bias=get_secondary_bispec_bias)\n",
    "hm_calc.get_cib_bias(SPT_5e14, get_secondary_bispec_bias=get_secondary_bispec_bias)\n",
    "hm_calc.get_cib_bias(SPT_1e14, get_secondary_bispec_bias=get_secondary_bispec_bias)\n",
    "\n",
    "hm_calc.get_mixed_biases(SPT_5e15, get_secondary_bispec_bias=get_secondary_bispec_bias)\n",
    "hm_calc.get_mixed_biases(SPT_5e14, get_secondary_bispec_bias=get_secondary_bispec_bias)\n",
    "hm_calc.get_mixed_biases(SPT_1e14, get_secondary_bispec_bias=get_secondary_bispec_bias)"
   ]
  },
  {
   "cell_type": "markdown",
   "metadata": {
    "pycharm": {
     "name": "#%% md\n"
    }
   },
   "source": [
    "Plot the biases"
   ]
  },
  {
   "cell_type": "code",
   "execution_count": 5,
   "metadata": {
    "ExecuteTime": {
     "end_time": "2022-07-06T15:40:55.305516Z",
     "start_time": "2022-07-06T15:40:55.181188Z"
    }
   },
   "outputs": [],
   "source": [
    "which_bias = 'tsz' # 'tsz' or 'cib' or 'mixed'\n",
    "experiment = SPT_5e15\n",
    "\n",
    "# Break down contributions into n-halo terms?\n",
    "breakdown = False"
   ]
  },
  {
   "cell_type": "code",
   "execution_count": 21,
   "metadata": {
    "ExecuteTime": {
     "end_time": "2022-07-04T16:41:33.579840Z",
     "start_time": "2022-07-04T16:41:33.535118Z"
    }
   },
   "outputs": [],
   "source": [
    "#text width and height of PhD thesis\n",
    "textwidth =  6.05 #inches\n",
    "textheight = 8.77 #inches\n",
    "\n",
    "plotting_params = {'font.size':8, 'axes.labelsize':8, 'xtick.labelsize':8, 'ytick.labelsize':8, \\\n",
    "                      'font.family':'serif', 'text.usetex':True, 'figure.figsize': [textwidth, textwidth],\n",
    "                   'axes.titlesize':8, 'lines.linewidth':0.7}\n",
    "\n",
    "plt.rcParams.update(plotting_params)"
   ]
  },
  {
   "cell_type": "code",
   "execution_count": 30,
   "metadata": {
    "ExecuteTime": {
     "end_time": "2022-07-06T16:40:23.489249Z",
     "start_time": "2022-07-06T16:40:21.983268Z"
    }
   },
   "outputs": [
    {
     "name": "stdout",
     "output_type": "stream",
     "text": [
      "/Users/antonbaleatolizancos/Desktop/THESIS/phd_thesis/Chapter4/plots_lensing_rec_biases/tsz_kappabiases_cosmoblender_lmax3000_withsecbispecbias_nzs30_nms30.pdf\n"
     ]
    },
    {
     "data": {
      "image/png": "[encoded data removed]",
      "text/plain": [
       "<Figure size 432x288 with 1 Axes>"
      ]
     },
     "metadata": {
      "needs_background": "light"
     },
     "output_type": "display_data"
    }
   ],
   "source": [
    "plt.figure()\n",
    "title=''\n",
    "\n",
    "scaling = experiment.biases['ells']**4 /4.\n",
    "if get_secondary_bispec_bias:\n",
    "    # TODO: a factor of 1/2 would make the 2ndary bispec agree better with expectations\n",
    "    scaling_second_bispec_bias = experiment_2ndarybispec.biases['second_bispec_bias_ells']**4 /4.\n",
    "    scaling_second_bispec_bias[:3] = np.nan\n",
    "\n",
    "# Split into negative and positive parts for plotting convenience\n",
    "prim_bispec_1h_pos, prim_bispec_1h_neg = tls.split_positive_negative(experiment.biases[which_bias]['prim_bispec']['1h'])\n",
    "prim_bispec_2h_pos, prim_bispec_2h_neg = tls.split_positive_negative(experiment.biases[which_bias]['prim_bispec']['2h'])\n",
    "prim_bispec_tot_pos, prim_bispec_tot_neg = tls.split_positive_negative(experiment.biases[which_bias]['prim_bispec']['2h']+experiment.biases[which_bias]['prim_bispec']['1h'])\n",
    "\n",
    "trispec_1h_pos, trispec_1h_neg = tls.split_positive_negative(experiment.biases[which_bias]['trispec']['1h'])\n",
    "trispec_2h_pos, trispec_2h_neg = tls.split_positive_negative(experiment.biases[which_bias]['trispec']['2h'])\n",
    "trispec_tot_pos, trispec_tot_neg = tls.split_positive_negative(experiment.biases[which_bias]['trispec']['2h']+ experiment.biases[which_bias]['trispec']['1h'])\n",
    "\n",
    "if get_secondary_bispec_bias:\n",
    "    sec_bispec_1h_pos, sec_bispec_1h_neg = tls.split_positive_negative(experiment_2ndarybispec.biases[which_bias]['second_bispec']['1h'])\n",
    "    #FIXME: for now, ony 1h term for secondary bispec bias\n",
    "    sec_bispec_tot_pos, sec_bispec_tot_neg = tls.split_positive_negative ( 0 +experiment_2ndarybispec.biases[which_bias]['second_bispec']['1h'])\n",
    "\n",
    "\n",
    "plt.plot(experiment.biases['ells'], scaling * trispec_tot_pos, color='b', label=r'{} trispec. bias, tot '.format(which_bias))\n",
    "plt.plot(experiment.biases['ells'], scaling * trispec_tot_neg, color='b', ls='--')\n",
    "\n",
    "if breakdown:\n",
    "    title='_withbreakdown'\n",
    "    plt.plot(experiment.biases['ells'], scaling * trispec_1h_pos, color='b', label=r'{} trispec. bias, 1h '.format(which_bias), ls=':')\n",
    "    plt.plot(experiment.biases['ells'], scaling * trispec_1h_neg, color='b', ls=':')\n",
    "\n",
    "    plt.plot(experiment.biases['ells'], scaling * trispec_2h_pos, color='b', label=r'{} trispec. bias, 2h '.format(which_bias), ls='-.')\n",
    "    plt.plot(experiment.biases['ells'], scaling * trispec_2h_neg, color='b', ls='-.')\n",
    "\n",
    "plt.plot(experiment.biases['ells'], scaling * prim_bispec_tot_pos, color='r',label=r'{} prim. bispec. bias, tot'.format(which_bias))\n",
    "plt.plot(experiment.biases['ells'], scaling * prim_bispec_tot_neg, color='r', ls='--')\n",
    "\n",
    "if breakdown:\n",
    "    plt.plot(experiment.biases['ells'], scaling * prim_bispec_1h_pos, color='r', label=r'{} prim. bispec. bias, 1h '.format(which_bias), ls=':')\n",
    "    plt.plot(experiment.biases['ells'], scaling * prim_bispec_1h_neg, color='r', ls=':')\n",
    "\n",
    "    plt.plot(experiment.biases['ells'], scaling * prim_bispec_2h_pos, color='r', label=r'{} prim. bispec. bias, 2h '.format(which_bias), ls='-.')\n",
    "    plt.plot(experiment.biases['ells'], scaling * prim_bispec_2h_neg, color='r', ls='-.')\n",
    "\n",
    "if get_secondary_bispec_bias:\n",
    "    plt.plot(experiment_2ndarybispec.biases['second_bispec_bias_ells'], scaling_second_bispec_bias * sec_bispec_tot_pos, color='orange',label=r'{} sec. bispec. bias, tot'.format(which_bias))\n",
    "    plt.plot(experiment_2ndarybispec.biases['second_bispec_bias_ells'], scaling_second_bispec_bias * sec_bispec_tot_neg, color='orange', ls='--')\n",
    "\n",
    "if breakdown:\n",
    "    plt.plot(experiment.biases['second_bispec_bias_ells'], scaling_second_bispec_bias * sec_bispec_1h_pos, color='orange', label=r'{} sec. bispec. bias, 1h '.format(which_bias), ls=':')\n",
    "    plt.plot(experiment.biases['second_bispec_bias_ells'], scaling_second_bispec_bias * sec_bispec_1h_neg, color='orange', ls=':')\n",
    "\n",
    "    #plt.plot(experiment.biases['second_bispec_bias_ells'], scaling_second_bispec_bias * sec_bispec_2h_pos, color='gold', label=r'{} sec. bispec. bias, 2h '.format(which_bias), ls='-.')\n",
    "    #plt.plot(experiment.biases['second_bispec_bias_ells'], scaling_second_bispec_bias * sec_bispec_2h_neg, color='gold', ls='-.')\n",
    "    \n",
    "#plt.annotate(r'$0.05\\,C_L^{\\kappa \\kappa}$', (2500,4e-11), rotation=-8)\n",
    "plt.plot(experiment.cl_unl.ls, 0.05* experiment.cl_unl.ls**4 * experiment.cl_unl.clpp /4.,'k')\n",
    "plt.yscale('log')\n",
    "#plt.legend(ncol=1, columnspacing=1)\n",
    "plt.ylabel(r'$C_L^{\\kappa\\kappa}$',fontsize=15)\n",
    "plt.xlabel(r'$L$',fontsize=15)\n",
    "#plt.title(r'l$_{\\mathrm{max}}=$'+str(lmax)+'$, M_{\\mathrm{max}}=$'+'{:.2E}'.format(experiment.massCut), fontsize=10)\n",
    "plt.xlim([100,3000])\n",
    "plt.ylim([1e-11,1e-7])\n",
    "\n",
    "ax = plt.gca()\n",
    "ax.tick_params(axis='both', which='major', labelsize=8)\n",
    "ax.tick_params(axis='both', which='minor', labelsize=8)\n",
    "\n",
    "#plt.savefig('../plots/tsz_bias_for_diff_mass_cuts/1D_reconstructions/biases_lmax{}_masscut{}.pdf'.format(lmax, '1e14'))\n",
    "thesis_dir = '/Users/antonbaleatolizancos/Desktop/THESIS/phd_thesis/Chapter4/plots_lensing_rec_biases/'\n",
    "\n",
    "if get_secondary_bispec_bias:\n",
    "    plt.savefig(thesis_dir+'{}_biases_cosmoblender_lmax{}{}_withsecbispecbias_nzs{}_nms{}.pdf'.format(which_bias, lmax, title, nZs, nMasses), bbox_inches='tight', dpi=1000)\n",
    "    print(thesis_dir+'{}_kappabiases_cosmoblender_lmax{}{}_withsecbispecbias_nzs{}_nms{}.pdf'.format(which_bias, lmax, title, nZs, nMasses))\n",
    "else:\n",
    "    plt.savefig(thesis_dir+'{}_kappabiases_cosmoblender_lmax{}{}.pdf'.format(which_bias, lmax, title), bbox_inches='tight')\n",
    "\n"
   ]
  },
  {
   "cell_type": "code",
   "execution_count": 27,
   "metadata": {
    "ExecuteTime": {
     "end_time": "2022-07-06T16:29:32.180170Z",
     "start_time": "2022-07-06T16:29:31.249968Z"
    }
   },
   "outputs": [
    {
     "name": "stdout",
     "output_type": "stream",
     "text": [
      "/Users/antonbaleatolizancos/Desktop/THESIS/phd_thesis/Chapter4/plots_lensing_rec_biases/tsz_biases_cosmoblender_lmax3000_withsecbispecbias_nzs30_nms30.pdf\n"
     ]
    },
    {
     "data": {
      "image/png": "[encoded data removed]",
      "text/plain": [
       "<Figure size 432x288 with 1 Axes>"
      ]
     },
     "metadata": {
      "needs_background": "light"
     },
     "output_type": "display_data"
    }
   ],
   "source": [
    "plt.figure()\n",
    "title=''\n",
    "\n",
    "scaling = experiment.biases['ells']**4 /(2*np.pi)\n",
    "if get_secondary_bispec_bias:\n",
    "    # TODO: a factor of 1/2 would make the 2ndary bispec agree better with expectations\n",
    "    scaling_second_bispec_bias = experiment_2ndarybispec.biases['second_bispec_bias_ells']**4 /4.\n",
    "    scaling_second_bispec_bias[:3] = np.nan\n",
    "\n",
    "# Split into negative and positive parts for plotting convenience\n",
    "prim_bispec_1h_pos, prim_bispec_1h_neg = tls.split_positive_negative(experiment.biases[which_bias]['prim_bispec']['1h'])\n",
    "prim_bispec_2h_pos, prim_bispec_2h_neg = tls.split_positive_negative(experiment.biases[which_bias]['prim_bispec']['2h'])\n",
    "prim_bispec_tot_pos, prim_bispec_tot_neg = tls.split_positive_negative(experiment.biases[which_bias]['prim_bispec']['2h']+experiment.biases[which_bias]['prim_bispec']['1h'])\n",
    "\n",
    "trispec_1h_pos, trispec_1h_neg = tls.split_positive_negative(experiment.biases[which_bias]['trispec']['1h'])\n",
    "trispec_2h_pos, trispec_2h_neg = tls.split_positive_negative(experiment.biases[which_bias]['trispec']['2h'])\n",
    "trispec_tot_pos, trispec_tot_neg = tls.split_positive_negative(experiment.biases[which_bias]['trispec']['2h']+ experiment.biases[which_bias]['trispec']['1h'])\n",
    "\n",
    "if get_secondary_bispec_bias:\n",
    "    sec_bispec_1h_pos, sec_bispec_1h_neg = tls.split_positive_negative(experiment_2ndarybispec.biases[which_bias]['second_bispec']['1h'])\n",
    "    #FIXME: for now, ony 1h term for secondary bispec bias\n",
    "    sec_bispec_tot_pos, sec_bispec_tot_neg = tls.split_positive_negative ( 0 +experiment_2ndarybispec.biases[which_bias]['second_bispec']['1h'])\n",
    "\n",
    "\n",
    "plt.plot(experiment.biases['ells'], scaling * trispec_tot_pos, color='b', label=r'{} trispec. bias, tot '.format(which_bias))\n",
    "plt.plot(experiment.biases['ells'], scaling * trispec_tot_neg, color='b', ls='--')\n",
    "\n",
    "if breakdown:\n",
    "    title='_withbreakdown'\n",
    "    plt.plot(experiment.biases['ells'], scaling * trispec_1h_pos, color='b', label=r'{} trispec. bias, 1h '.format(which_bias), ls=':')\n",
    "    plt.plot(experiment.biases['ells'], scaling * trispec_1h_neg, color='b', ls=':')\n",
    "\n",
    "    plt.plot(experiment.biases['ells'], scaling * trispec_2h_pos, color='b', label=r'{} trispec. bias, 2h '.format(which_bias), ls='-.')\n",
    "    plt.plot(experiment.biases['ells'], scaling * trispec_2h_neg, color='b', ls='-.')\n",
    "\n",
    "plt.plot(experiment.biases['ells'], scaling * prim_bispec_tot_pos, color='r',label=r'{} prim. bispec. bias, tot'.format(which_bias))\n",
    "plt.plot(experiment.biases['ells'], scaling * prim_bispec_tot_neg, color='r', ls='--')\n",
    "\n",
    "if breakdown:\n",
    "    plt.plot(experiment.biases['ells'], scaling * prim_bispec_1h_pos, color='r', label=r'{} prim. bispec. bias, 1h '.format(which_bias), ls=':')\n",
    "    plt.plot(experiment.biases['ells'], scaling * prim_bispec_1h_neg, color='r', ls=':')\n",
    "\n",
    "    plt.plot(experiment.biases['ells'], scaling * prim_bispec_2h_pos, color='r', label=r'{} prim. bispec. bias, 2h '.format(which_bias), ls='-.')\n",
    "    plt.plot(experiment.biases['ells'], scaling * prim_bispec_2h_neg, color='r', ls='-.')\n",
    "\n",
    "if get_secondary_bispec_bias:\n",
    "    plt.plot(experiment_2ndarybispec.biases['second_bispec_bias_ells'], scaling_second_bispec_bias * sec_bispec_tot_pos, color='orange',label=r'{} sec. bispec. bias, tot'.format(which_bias))\n",
    "    plt.plot(experiment_2ndarybispec.biases['second_bispec_bias_ells'], scaling_second_bispec_bias * sec_bispec_tot_neg, color='orange', ls='--')\n",
    "\n",
    "if breakdown:\n",
    "    plt.plot(experiment.biases['second_bispec_bias_ells'], scaling_second_bispec_bias * sec_bispec_1h_pos, color='orange', label=r'{} sec. bispec. bias, 1h '.format(which_bias), ls=':')\n",
    "    plt.plot(experiment.biases['second_bispec_bias_ells'], scaling_second_bispec_bias * sec_bispec_1h_neg, color='orange', ls=':')\n",
    "\n",
    "    #plt.plot(experiment.biases['second_bispec_bias_ells'], scaling_second_bispec_bias * sec_bispec_2h_pos, color='gold', label=r'{} sec. bispec. bias, 2h '.format(which_bias), ls='-.')\n",
    "    #plt.plot(experiment.biases['second_bispec_bias_ells'], scaling_second_bispec_bias * sec_bispec_2h_neg, color='gold', ls='-.')\n",
    "    \n",
    "#plt.annotate(r'$0.05\\,C_L^{\\kappa \\kappa}$', (2500,4e-11), rotation=-8)\n",
    "plt.plot(experiment.cl_unl.ls, 0.05* experiment.cl_unl.ls**4 * experiment.cl_unl.clpp /(2*np.pi),'k')\n",
    "plt.yscale('log')\n",
    "#plt.legend(ncol=1, columnspacing=1)\n",
    "plt.ylabel(r'$L^4 C_L^{\\phi\\phi}/ 2\\pi$',fontsize=10)\n",
    "plt.xlabel(r'$L$',fontsize=10)\n",
    "#plt.title(r'l$_{\\mathrm{max}}=$'+str(lmax)+'$, M_{\\mathrm{max}}=$'+'{:.2E}'.format(experiment.massCut), fontsize=10)\n",
    "plt.xlim([100,3000])\n",
    "plt.ylim([1e-11,1e-7])\n",
    "\n",
    "ax = plt.gca()\n",
    "ax.tick_params(axis='both', which='major', labelsize=8)\n",
    "ax.tick_params(axis='both', which='minor', labelsize=8)\n",
    "\n",
    "#plt.savefig('../plots/tsz_bias_for_diff_mass_cuts/1D_reconstructions/biases_lmax{}_masscut{}.pdf'.format(lmax, '1e14'))\n",
    "thesis_dir = '/Users/antonbaleatolizancos/Desktop/THESIS/phd_thesis/Chapter4/plots_lensing_rec_biases/'\n",
    "\n",
    "if get_secondary_bispec_bias:\n",
    "    plt.savefig(thesis_dir+'{}_biases_cosmoblender_lmax{}{}_withsecbispecbias_nzs{}_nms{}.pdf'.format(which_bias, lmax, title, nZs, nMasses), bbox_inches='tight', dpi=1000)\n",
    "    print(thesis_dir+'{}_biases_cosmoblender_lmax{}{}_withsecbispecbias_nzs{}_nms{}.pdf'.format(which_bias, lmax, title, nZs, nMasses))\n",
    "else:\n",
    "    plt.savefig(thesis_dir+'{}_biases_cosmoblender_lmax{}{}.pdf'.format(which_bias, lmax, title), bbox_inches='tight')\n"
   ]
  },
  {
   "cell_type": "markdown",
   "metadata": {},
   "source": [
    "We can save the dictionary of biases to file as"
   ]
  },
  {
   "cell_type": "code",
   "execution_count": 8,
   "metadata": {
    "ExecuteTime": {
     "end_time": "2022-07-05T22:17:35.082149Z",
     "start_time": "2022-07-05T22:17:35.016269Z"
    }
   },
   "outputs": [],
   "source": [
    "experiment.save_biases()"
   ]
  },
  {
   "cell_type": "markdown",
   "metadata": {},
   "source": [
    "and later retrieve them as"
   ]
  },
  {
   "cell_type": "code",
   "execution_count": 9,
   "metadata": {
    "ExecuteTime": {
     "end_time": "2022-07-05T22:35:17.485507Z",
     "start_time": "2022-07-05T22:35:17.271680Z"
    }
   },
   "outputs": [
    {
     "name": "stdout",
     "output_type": "stream",
     "text": [
      "Successfully loaded experiment object with properties:\n",
      "\n",
      "{'ells': array([   0,    1,    2, ..., 2998, 2999, 3000]), 'second_bispec_bias_ells': array([  10,  260,  510,  760, 1010, 1260, 1510, 1760, 2010, 2260, 2510,\n",
      "       2760]), 'tsz': {'trispec': {'1h': array([0.00000000e+00+0.j, 1.44729161e-10+0.j, 1.39868017e-10+0.j, ...,\n",
      "       3.77057677e-21+0.j, 3.77861534e-21+0.j, 3.78666249e-21+0.j]), '2h': array([0.00000000e+00+0.00000000e+00j, 1.34428370e-11-6.18352357e-26j,\n",
      "       2.05909862e-11-9.47157568e-26j, ...,\n",
      "       6.77973948e-26+1.98553893e-43j, 6.78863674e-26+1.98814461e-43j,\n",
      "       6.79753182e-26+1.99074966e-43j])}, 'prim_bispec': {'1h': array([           nan           +nanj, 1.42341421e-10-3.27375660e-25j,\n",
      "       4.61391179e-11-1.06116857e-25j, ...,\n",
      "       2.23644517e-23+3.27486695e-41j, 2.23634089e-23+3.27471426e-41j,\n",
      "       2.23623480e-23+3.27455891e-41j]), '2h': array([           nan           +nanj, 9.54102618e-10-2.19437162e-24j,\n",
      "       5.09599960e-10-1.17204551e-24j, ...,\n",
      "       5.80024939e-25+8.49340967e-43j, 5.79778979e-25+8.48980803e-43j,\n",
      "       5.79532741e-25+8.48620233e-43j])}, 'second_bispec': {'1h': array([-1.06007323e-15+5.57560345e-31j, -6.05196362e-19-2.91219844e-35j,\n",
      "       -2.09351287e-20+6.18338931e-37j, -3.55609885e-21+1.73850995e-38j,\n",
      "       -1.17566525e-21+6.12651567e-39j, -5.29945848e-22+1.02259437e-39j,\n",
      "       -2.94877961e-22+3.74253071e-40j, -2.05189096e-22+2.82588603e-41j,\n",
      "       -1.63117219e-22-7.92496969e-41j, -1.69536653e-22+8.07411517e-41j,\n",
      "       -1.97271963e-22-5.26109221e-40j, -1.89176072e-22-6.48940197e-40j]), '2h': {}}}, 'cib': {'trispec': {'1h': {}, '2h': {}}, 'prim_bispec': {'1h': {}, '2h': {}}, 'second_bispec': {'1h': {}, '2h': {}}}, 'mixed': {'trispec': {'1h': {}, '2h': {}}, 'prim_bispec': {'1h': {}, '2h': {}}, 'second_bispec': {'1h': {}, '2h': {}}}}\n"
     ]
    }
   ],
   "source": [
    "dict_of_biases = qest.load_dict_of_biases()"
   ]
  },
  {
   "cell_type": "markdown",
   "metadata": {},
   "source": [
    "We can also use the standard Quicklens implementation of the QEs instead of FFTlog"
   ]
  },
  {
   "cell_type": "code",
   "execution_count": 11,
   "metadata": {},
   "outputs": [
    {
     "data": {
      "image/png": "[encoded data removed]",
      "text/plain": [
       "<Figure size 360x360 with 1 Axes>"
      ]
     },
     "metadata": {
      "needs_background": "light"
     },
     "output_type": "display_data"
    }
   ],
   "source": [
    "plt.figure(figsize=(5,5))\n",
    "scaling = experiment.biases['ells']**4 /(2*np.pi)\n",
    "\n",
    "flat_sky_correction = 1\n",
    "\n",
    "plt.plot(experiment.biases['ells'][experiment.biases[which_bias]['trispec']['1h']>0],flat_sky_correction**2 *(scaling * experiment.biases[which_bias]['trispec']['1h'])[experiment.biases[which_bias]['trispec']['1h']>0],color='b',label=r'{} 4pt, 1h '.format(which_bias))\n",
    "\n",
    "plt.plot(experiment.biases['ells'][experiment.biases[which_bias]['trispec']['2h']>0],flat_sky_correction**2 *(scaling * experiment.biases[which_bias]['trispec']['2h'])[experiment.biases[which_bias]['trispec']['2h']>0],color='b',label=r'{} 4pt, 2h '.format(which_bias),ls='--')\n",
    "plt.plot(experiment.biases['ells'][experiment.biases[which_bias]['trispec']['2h']<0],-flat_sky_correction**2 *(scaling * experiment.biases[which_bias]['trispec']['2h'])[experiment.biases[which_bias]['trispec']['2h']<0],color='b',ls='--')\n",
    "\n",
    "plt.plot(experiment.biases['ells'][experiment.biases[which_bias]['prim_bispec']['1h']>0],flat_sky_correction *(scaling *experiment.biases[which_bias]['prim_bispec']['1h'])[experiment.biases[which_bias]['prim_bispec']['1h']>0],color='r',label=r'{}$^2-\\kappa$, 1h'.format(which_bias))\n",
    "plt.plot(experiment.biases['ells'][experiment.biases[which_bias]['prim_bispec']['1h']<0],-flat_sky_correction*(scaling *experiment.biases[which_bias]['prim_bispec']['1h'])[experiment.biases[which_bias]['prim_bispec']['1h']<0],color='r')\n",
    "\n",
    "plt.plot(experiment.biases['ells'][experiment.biases[which_bias]['prim_bispec']['2h']>0],flat_sky_correction*(scaling *experiment.biases[which_bias]['prim_bispec']['2h'])[experiment.biases[which_bias]['prim_bispec']['2h']>0],color='r',label=r'{}$^2-\\kappa$, 2h'.format(which_bias),ls='--')\n",
    "plt.plot(experiment.biases['ells'][experiment.biases[which_bias]['prim_bispec']['2h']<0],-flat_sky_correction*(scaling *experiment.biases[which_bias]['prim_bispec']['2h'])[experiment.biases[which_bias]['prim_bispec']['2h']<0],color='r',ls='--')\n",
    "\n",
    "plt.annotate(r'$0.05\\,C_L^{\\kappa \\kappa}$', (2500,4e-11), rotation=-8)\n",
    "plt.plot(experiment.cl_unl.ls, 0.05* experiment.cl_unl.ls**4 * experiment.cl_unl.clpp /(2*np.pi),'k')\n",
    "plt.yscale('log')\n",
    "plt.legend(fontsize=10, ncol=2)\n",
    "plt.ylabel(r'$L^4 C_L^{\\phi\\phi}/ 2\\pi$',fontsize=10)\n",
    "plt.xlabel(r'$L$',fontsize=10)\n",
    "plt.title(r'Quicklens, l$_{\\mathrm{max}}=$'+str(lmax)+'$, M_{\\mathrm{max}}=$'+'{:.2E}'.format(experiment.massCut), fontsize=10)\n",
    "plt.xlim([2,3000])\n",
    "plt.ylim([1e-11,1e-7])\n",
    "\n",
    "ax = plt.gca()\n",
    "ax.tick_params(axis='both', which='major', labelsize=8)\n",
    "ax.tick_params(axis='both', which='minor', labelsize=8)\n",
    "\n",
    "#plt.savefig('../plots/tsz_bias_for_diff_mass_cuts/1D_reconstructions/biases_lmax{}_masscut{}.pdf'.format(lmax, '1e14'))\n"
   ]
  },
  {
   "cell_type": "markdown",
   "metadata": {},
   "source": [
    "# Calculate biases to cross-correlations with galaxies"
   ]
  },
  {
   "cell_type": "code",
   "execution_count": 5,
   "metadata": {
    "ExecuteTime": {
     "end_time": "2022-09-24T01:15:58.770703Z",
     "start_time": "2022-09-24T01:15:58.684590Z"
    }
   },
   "outputs": [],
   "source": [
    "survey_name = \"built-in\"\n",
    "which_bias = 'tsz' #''tsz' or 'cib' or 'mixed'\n",
    "experiment = SPT_5e15\n",
    "\n",
    "# Add the HOD for the galaxy sample that we will cross-correlating with lensing\n",
    "hm_calc.hcos.add_hod(name=survey_name, mthresh=10 ** 10.5 + hm_calc.hcos.zs * 0.)"
   ]
  },
  {
   "cell_type": "code",
   "execution_count": 6,
   "metadata": {
    "ExecuteTime": {
     "end_time": "2022-09-24T01:17:11.118374Z",
     "start_time": "2022-09-24T01:16:02.738098Z"
    }
   },
   "outputs": [
    {
     "data": {
      "text/plain": [
       "Text(0.5, 0, '$L$')"
      ]
     },
     "execution_count": 6,
     "metadata": {},
     "output_type": "execute_result"
    },
    {
     "data": {
      "image/png": "[encoded data removed]",
      "text/plain": [
       "<Figure size 360x360 with 1 Axes>"
      ]
     },
     "metadata": {
      "needs_background": "light"
     },
     "output_type": "display_data"
    }
   ],
   "source": [
    "if which_bias=='tsz':\n",
    "    hm_calc.get_tsz_cross_biases(experiment, survey_name=survey_name)\n",
    "elif which_bias=='cib':\n",
    "    hm_calc.get_cib_cross_biases(experiment, survey_name=survey_name)\n",
    "elif which_bias=='mixed':\n",
    "    hm_calc.get_mixed_cross_biases(experiment, survey_name=survey_name)\n",
    "\n",
    "plt.figure(figsize=(5, 5))\n",
    "scaling = 1\n",
    "\n",
    "# Split into negative and positive parts for plotting convenience\n",
    "cross_w_gals_1h_pos, cross_w_gals_1h_neg = tls.split_positive_negative(experiment.biases[which_bias]['cross_w_gals']['1h'])\n",
    "cross_w_gals_2h_pos, cross_w_gals_2h_neg = tls.split_positive_negative(experiment.biases[which_bias]['cross_w_gals']['2h'])\n",
    "\n",
    "# Plot the signal clkg\n",
    "pgm_1h = hm_calc.hcos.get_power_1halo(\"nfw\", survey_name)\n",
    "pgm_2h = hm_calc.hcos.get_power_2halo(\"nfw\", survey_name)\n",
    "Pgm = pgm_1h + pgm_2h\n",
    "ells = np.linspace(2, 3000, 300)\n",
    "Cls = hm_calc.hcos.C_kg(ells, hm_calc.hcos.zs, hm_calc.hcos.ks, Pgm, gzs=0.8, lzs=1100.)\n",
    "plt.plot(ells, 0.05 * Cls, 'k')\n",
    "\n",
    "plt.plot(experiment.biases['ells'], scaling * cross_w_gals_1h_pos, color='b')\n",
    "plt.plot(experiment.biases['ells'], scaling * cross_w_gals_1h_neg, color='b', ls='--')\n",
    "\n",
    "plt.plot(experiment.biases['ells'], scaling * cross_w_gals_2h_pos, color='r')\n",
    "plt.plot(experiment.biases['ells'], scaling * cross_w_gals_2h_neg, color='r', ls='--')\n",
    "\n",
    "plt.yscale('log')\n",
    "plt.xlim([2, 3000])\n",
    "ax = plt.gca()\n",
    "ax.tick_params(axis='both', which='major', labelsize=8)\n",
    "ax.tick_params(axis='both', which='minor', labelsize=8)\n",
    "plt.ylabel(r'$C_{L}^{\\delta_{g}\\kappa}$')\n",
    "plt.xlabel(r'$L$')"
   ]
  },
  {
   "cell_type": "markdown",
   "metadata": {
    "collapsed": true
   },
   "source": [
    "# Test the FFTlog implementation of the QE"
   ]
  },
  {
   "cell_type": "markdown",
   "metadata": {},
   "source": [
    "We now test the FFTlog implementation of the 1D TT QE against a brute-force calculation of the integrals"
   ]
  },
  {
   "cell_type": "markdown",
   "metadata": {},
   "source": [
    "Generate a y profile"
   ]
  },
  {
   "cell_type": "code",
   "execution_count": 10,
   "metadata": {
    "collapsed": true
   },
   "outputs": [],
   "source": [
    "y = tls.pkToPell(hm_calc.hcos.comoving_radial_distance(hm_calc.hcos.zs[1]),hm_calc.hcos.ks,\\\n",
    "                 hm_calc.hcos.pk_profiles['y'][1,1]*(1-np.exp(-(hm_calc.hcos.ks/hm_calc.hcos.p['kstar_damping']))), ellmax=SPT.lmax)"
   ]
  },
  {
   "cell_type": "markdown",
   "metadata": {},
   "source": [
    "Calculate the (unnormalised) lensing reconstruction by brute force (this can be very slow)"
   ]
  },
  {
   "cell_type": "code",
   "execution_count": 11,
   "metadata": {},
   "outputs": [
    {
     "name": "stdout",
     "output_type": "stream",
     "text": [
      "dealing with integrable singularity by setting to 0\n",
      "dealing with integrable singularity by setting to 0\n",
      "dealing with integrable singularity by setting to 0\n",
      "dealing with integrable singularity by setting to 0\n",
      "dealing with integrable singularity by setting to 0\n",
      "dealing with integrable singularity by setting to 0\n",
      "dealing with integrable singularity by setting to 0\n",
      "dealing with integrable singularity by setting to 0\n",
      "dealing with integrable singularity by setting to 0\n",
      "dealing with integrable singularity by setting to 0\n",
      "dealing with integrable singularity by setting to 0\n",
      "dealing with integrable singularity by setting to 0\n",
      "dealing with integrable singularity by setting to 0\n"
     ]
    }
   ],
   "source": [
    "output_ells = np.linspace(20, 3000, 10)\n",
    "\n",
    "unnorm_rec_bruteforce = SPT.get_brute_force_unnorm_TT_qe(output_ells,y)"
   ]
  },
  {
   "cell_type": "markdown",
   "metadata": {},
   "source": [
    "Now calculate it using FFTlog"
   ]
  },
  {
   "cell_type": "code",
   "execution_count": 101,
   "metadata": {
    "collapsed": true
   },
   "outputs": [],
   "source": [
    "output_ells_refined =  np.arange(3000)\n",
    "\n",
    "# FFTlog parameters\n",
    "N_l= 2*4096#2*4096\n",
    "lmin= .000135 #0.000135\n",
    "alpha= -1.35#-1.35\n",
    "\n",
    "unnorm_rec_fftlog = SPT.get_unnorm_TT_qe(output_ells_refined,y, N_l=N_l, lmin=lmin, alpha=alpha)"
   ]
  },
  {
   "cell_type": "markdown",
   "metadata": {},
   "source": [
    "Compare the two"
   ]
  },
  {
   "cell_type": "code",
   "execution_count": 102,
   "metadata": {},
   "outputs": [
    {
     "data": {
      "text/plain": [
       "<matplotlib.legend.Legend at 0x7fa11de4f460>"
      ]
     },
     "execution_count": 102,
     "metadata": {},
     "output_type": "execute_result"
    },
    {
     "data": {
      "image/png": "[encoded data removed]",
      "text/plain": [
       "<Figure size 432x288 with 1 Axes>"
      ]
     },
     "metadata": {
      "needs_background": "light"
     },
     "output_type": "display_data"
    }
   ],
   "source": [
    "plt.semilogy(output_ells_refined, unnorm_rec_fftlog, color='tab:orange', label='FFTlog (+ve)')\n",
    "plt.semilogy(output_ells_refined, - unnorm_rec_fftlog, color='tab:gray', label='FFTlog (-ve)')\n",
    "\n",
    "plt.semilogy(output_ells, unnorm_rec_bruteforce, marker='o', lw=0, markersize=5, color='tab:orange', label='brute force (+ve)')\n",
    "plt.semilogy(output_ells, -unnorm_rec_bruteforce, marker='o', markersize=5, lw=0, color='tab:gray', label='brute force (-ve)')\n",
    "\n",
    "plt.xlim([1, 3000])\n",
    "plt.ylim([1e7, 1e12])\n",
    "plt.xlabel('l')\n",
    "plt.ylabel(r'unnormalised $\\phi^{\\mathrm{rec}} (l)$')\n",
    "plt.legend(loc='upper left', ncol=2)\n"
   ]
  },
  {
   "cell_type": "markdown",
   "metadata": {
    "collapsed": true
   },
   "source": [
    "# Calculate the biases to B-mode delensing"
   ]
  },
  {
   "cell_type": "code",
   "execution_count": 170,
   "metadata": {
    "ExecuteTime": {
     "end_time": "2022-06-18T04:17:36.097256Z",
     "start_time": "2022-06-18T04:16:42.885065Z"
    }
   },
   "outputs": [],
   "source": [
    "SO_5e15 = qest.experiment(6., 1.5, 3000, massCut_Mvir=5e15, freq_GHz=freq_GHz)\n",
    "SO_1e15 = qest.experiment(6., 1.5, 3000, massCut_Mvir=1e15, freq_GHz=freq_GHz)\n",
    "SO_5e14 = qest.experiment(6., 1.5, 3000, massCut_Mvir=5e14, freq_GHz=freq_GHz)"
   ]
  },
  {
   "cell_type": "code",
   "execution_count": 171,
   "metadata": {
    "ExecuteTime": {
     "end_time": "2022-06-18T04:18:22.307256Z",
     "start_time": "2022-06-18T04:17:36.101166Z"
    }
   },
   "outputs": [
    {
     "data": {
      "text/plain": [
       "(-1e-07, 1.5e-07)"
      ]
     },
     "execution_count": 171,
     "metadata": {},
     "output_type": "execute_result"
    },
    {
     "data": {
      "image/png": "[encoded data removed]",
      "text/plain": [
       "<Figure size 432x288 with 1 Axes>"
      ]
     },
     "metadata": {
      "needs_background": "light"
     },
     "output_type": "display_data"
    }
   ],
   "source": [
    "ells, cl_Btemp_x_Blens_bias, cl_Btemp_x_Btemp_bias, cl_Bdel_x_Bdel_bias = hm_calc.get_bias_to_delensed_clbb(SO_5e15)\n",
    "\n",
    "plt.plot(ells, cl_Btemp_x_Blens_bias, label=r'Btemp_x_Blens')\n",
    "plt.plot(ells, cl_Btemp_x_Btemp_bias, label=r'Btemp_x_Btemp')\n",
    "plt.plot(ells, cl_Bdel_x_Bdel_bias, label=r'Bdel_x_Bdel')\n",
    "plt.ylabel(r'$C_l^{BB}$ [$\\mu$K$^2$]')\n",
    "plt.xlabel(r'$l$')\n",
    "plt.legend()\n",
    "plt.axhline(0, color='k', lw=0.5)\n",
    "plt.ylim([-1e-7,1.5e-7])"
   ]
  },
  {
   "cell_type": "code",
   "execution_count": 172,
   "metadata": {
    "ExecuteTime": {
     "end_time": "2022-06-18T04:18:50.357399Z",
     "start_time": "2022-06-18T04:18:22.310485Z"
    }
   },
   "outputs": [
    {
     "data": {
      "text/plain": [
       "(-1e-07, 1.5e-07)"
      ]
     },
     "execution_count": 172,
     "metadata": {},
     "output_type": "execute_result"
    },
    {
     "data": {
      "image/png": "[encoded data removed]",
      "text/plain": [
       "<Figure size 432x288 with 1 Axes>"
      ]
     },
     "metadata": {
      "needs_background": "light"
     },
     "output_type": "display_data"
    }
   ],
   "source": [
    "ells, cl_Btemp_x_Blens_bias_SO_1e15, cl_Btemp_x_Btemp_bias_SO_1e15, cl_Bdel_x_Bdel_bias_SO_1e15 = hm_calc.get_bias_to_delensed_clbb(SO_5e14)\n",
    "\n",
    "plt.plot(ells, cl_Btemp_x_Blens_bias_SO_1e15, label=r'Btemp_x_Blens')\n",
    "plt.plot(ells, cl_Btemp_x_Btemp_bias_SO_1e15, label=r'Btemp_x_Btemp')\n",
    "plt.plot(ells, cl_Bdel_x_Bdel_bias_SO_1e15, label=r'Bdel_x_Bdel')\n",
    "plt.ylabel(r'$C_l^{BB}$ [$\\mu$K$^2$]')\n",
    "plt.xlabel(r'$l$')\n",
    "plt.legend()\n",
    "plt.axhline(0, color='k', lw=0.5)\n",
    "plt.ylim([-1e-7,1.5e-7])"
   ]
  },
  {
   "cell_type": "code",
   "execution_count": 173,
   "metadata": {
    "ExecuteTime": {
     "end_time": "2022-06-18T04:19:18.450157Z",
     "start_time": "2022-06-18T04:18:50.363338Z"
    }
   },
   "outputs": [
    {
     "data": {
      "text/plain": [
       "(-1e-07, 1.5e-07)"
      ]
     },
     "execution_count": 173,
     "metadata": {},
     "output_type": "execute_result"
    },
    {
     "data": {
      "image/png": "[encoded data removed]",
      "text/plain": [
       "<Figure size 432x288 with 1 Axes>"
      ]
     },
     "metadata": {
      "needs_background": "light"
     },
     "output_type": "display_data"
    }
   ],
   "source": [
    "ells, cl_Btemp_x_Blens_bias_SO_5e14, cl_Btemp_x_Btemp_bias_SO_5e14, cl_Bdel_x_Bdel_bias_SO_5e14 = hm_calc.get_bias_to_delensed_clbb(SO_5e14)\n",
    "\n",
    "plt.plot(ells, cl_Btemp_x_Blens_bias_SO_5e14, label=r'Btemp_x_Blens')\n",
    "plt.plot(ells, cl_Btemp_x_Btemp_bias_SO_5e14, label=r'Btemp_x_Btemp')\n",
    "plt.plot(ells, cl_Bdel_x_Bdel_bias_SO_5e14, label=r'Bdel_x_Bdel')\n",
    "plt.ylabel(r'$C_l^{BB}$ [$\\mu$K$^2$]')\n",
    "plt.xlabel(r'$l$')\n",
    "plt.legend()\n",
    "plt.axhline(0, color='k', lw=0.5)\n",
    "plt.ylim([-1e-7,1.5e-7])"
   ]
  },
  {
   "cell_type": "code",
   "execution_count": null,
   "metadata": {},
   "outputs": [],
   "source": []
  }
 ],
 "metadata": {
  "kernelspec": {
   "display_name": "lensing_py3",
   "language": "python",
   "name": "lensing_py3"
  },
  "language_info": {
   "codemirror_mode": {
    "name": "ipython",
    "version": 3
   },
   "file_extension": ".py",
   "mimetype": "text/x-python",
   "name": "python",
   "nbconvert_exporter": "python",
   "pygments_lexer": "ipython3",
   "version": "3.7.12"
  },
  "toc": {
   "base_numbering": 1,
   "nav_menu": {},
   "number_sections": true,
   "sideBar": true,
   "skip_h1_title": false,
   "title_cell": "Table of Contents",
   "title_sidebar": "Contents",
   "toc_cell": false,
   "toc_position": {
    "height": "calc(100% - 180px)",
    "left": "10px",
    "top": "150px",
    "width": "165px"
   },
   "toc_section_display": true,
   "toc_window_display": true
  }
 },
 "nbformat": 4,
 "nbformat_minor": 2
}
